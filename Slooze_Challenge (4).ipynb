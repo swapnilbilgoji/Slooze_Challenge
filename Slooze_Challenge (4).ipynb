{
  "nbformat": 4,
  "nbformat_minor": 0,
  "metadata": {
    "colab": {
      "provenance": []
    },
    "kernelspec": {
      "name": "python3",
      "display_name": "Python 3"
    },
    "language_info": {
      "name": "python"
    }
  },
  "cells": [
    {
      "cell_type": "markdown",
      "source": [
        "#Importing all the Libraries\n"
      ],
      "metadata": {
        "id": "IurCrG-9JpcF"
      }
    },
    {
      "cell_type": "code",
      "source": [
        "import pandas as pd\n",
        "import matplotlib.pyplot as plt\n",
        "import seaborn as sns"
      ],
      "metadata": {
        "id": "k_nmvv5TH4mz"
      },
      "execution_count": 1,
      "outputs": []
    },
    {
      "cell_type": "markdown",
      "source": [
        "#Loading the Data"
      ],
      "metadata": {
        "id": "R1sh2MyEAkDe"
      }
    },
    {
      "cell_type": "code",
      "source": [
        "df=pd.read_csv(\"SalesFINAL12312016.csv\")"
      ],
      "metadata": {
        "id": "oH4Km7vH-6sC"
      },
      "execution_count": 6,
      "outputs": []
    },
    {
      "cell_type": "code",
      "source": [
        "df.head()"
      ],
      "metadata": {
        "colab": {
          "base_uri": "https://localhost:8080/",
          "height": 399
        },
        "id": "ADILGztI_Th0",
        "outputId": "d7d06d6d-1150-4d0f-c2c6-e7d7a4128588"
      },
      "execution_count": 3,
      "outputs": [
        {
          "output_type": "execute_result",
          "data": {
            "text/plain": [
              "           InventoryId  Store  Brand                 Description        Size  \\\n",
              "0  1_HARDERSFIELD_1004      1   1004  Jim Beam w/2 Rocks Glasses       750mL   \n",
              "1  1_HARDERSFIELD_1004      1   1004  Jim Beam w/2 Rocks Glasses       750mL   \n",
              "2  1_HARDERSFIELD_1004      1   1004  Jim Beam w/2 Rocks Glasses       750mL   \n",
              "3  1_HARDERSFIELD_1004      1   1004  Jim Beam w/2 Rocks Glasses       750mL   \n",
              "4  1_HARDERSFIELD_1005      1   1005     Maker's Mark Combo Pack  375mL 2 Pk   \n",
              "\n",
              "   SalesQuantity  SalesDollars  SalesPrice SalesDate  Volume  Classification  \\\n",
              "0            1.0         16.49       16.49  1/1/2016   750.0             1.0   \n",
              "1            2.0         32.98       16.49  1/2/2016   750.0             1.0   \n",
              "2            1.0         16.49       16.49  1/3/2016   750.0             1.0   \n",
              "3            1.0         14.49       14.49  1/8/2016   750.0             1.0   \n",
              "4            2.0         69.98       34.99  1/9/2016   375.0             1.0   \n",
              "\n",
              "   ExciseTax  VendorNo                   VendorName  \n",
              "0       0.79   12546.0  JIM BEAM BRANDS COMPANY      \n",
              "1       1.57   12546.0  JIM BEAM BRANDS COMPANY      \n",
              "2       0.79   12546.0  JIM BEAM BRANDS COMPANY      \n",
              "3       0.79   12546.0  JIM BEAM BRANDS COMPANY      \n",
              "4       0.79   12546.0  JIM BEAM BRANDS COMPANY      "
            ],
            "text/html": [
              "\n",
              "  <div id=\"df-0c5dbdcd-9181-497e-bb96-8797bd50bdbc\" class=\"colab-df-container\">\n",
              "    <div>\n",
              "<style scoped>\n",
              "    .dataframe tbody tr th:only-of-type {\n",
              "        vertical-align: middle;\n",
              "    }\n",
              "\n",
              "    .dataframe tbody tr th {\n",
              "        vertical-align: top;\n",
              "    }\n",
              "\n",
              "    .dataframe thead th {\n",
              "        text-align: right;\n",
              "    }\n",
              "</style>\n",
              "<table border=\"1\" class=\"dataframe\">\n",
              "  <thead>\n",
              "    <tr style=\"text-align: right;\">\n",
              "      <th></th>\n",
              "      <th>InventoryId</th>\n",
              "      <th>Store</th>\n",
              "      <th>Brand</th>\n",
              "      <th>Description</th>\n",
              "      <th>Size</th>\n",
              "      <th>SalesQuantity</th>\n",
              "      <th>SalesDollars</th>\n",
              "      <th>SalesPrice</th>\n",
              "      <th>SalesDate</th>\n",
              "      <th>Volume</th>\n",
              "      <th>Classification</th>\n",
              "      <th>ExciseTax</th>\n",
              "      <th>VendorNo</th>\n",
              "      <th>VendorName</th>\n",
              "    </tr>\n",
              "  </thead>\n",
              "  <tbody>\n",
              "    <tr>\n",
              "      <th>0</th>\n",
              "      <td>1_HARDERSFIELD_1004</td>\n",
              "      <td>1</td>\n",
              "      <td>1004</td>\n",
              "      <td>Jim Beam w/2 Rocks Glasses</td>\n",
              "      <td>750mL</td>\n",
              "      <td>1.0</td>\n",
              "      <td>16.49</td>\n",
              "      <td>16.49</td>\n",
              "      <td>1/1/2016</td>\n",
              "      <td>750.0</td>\n",
              "      <td>1.0</td>\n",
              "      <td>0.79</td>\n",
              "      <td>12546.0</td>\n",
              "      <td>JIM BEAM BRANDS COMPANY</td>\n",
              "    </tr>\n",
              "    <tr>\n",
              "      <th>1</th>\n",
              "      <td>1_HARDERSFIELD_1004</td>\n",
              "      <td>1</td>\n",
              "      <td>1004</td>\n",
              "      <td>Jim Beam w/2 Rocks Glasses</td>\n",
              "      <td>750mL</td>\n",
              "      <td>2.0</td>\n",
              "      <td>32.98</td>\n",
              "      <td>16.49</td>\n",
              "      <td>1/2/2016</td>\n",
              "      <td>750.0</td>\n",
              "      <td>1.0</td>\n",
              "      <td>1.57</td>\n",
              "      <td>12546.0</td>\n",
              "      <td>JIM BEAM BRANDS COMPANY</td>\n",
              "    </tr>\n",
              "    <tr>\n",
              "      <th>2</th>\n",
              "      <td>1_HARDERSFIELD_1004</td>\n",
              "      <td>1</td>\n",
              "      <td>1004</td>\n",
              "      <td>Jim Beam w/2 Rocks Glasses</td>\n",
              "      <td>750mL</td>\n",
              "      <td>1.0</td>\n",
              "      <td>16.49</td>\n",
              "      <td>16.49</td>\n",
              "      <td>1/3/2016</td>\n",
              "      <td>750.0</td>\n",
              "      <td>1.0</td>\n",
              "      <td>0.79</td>\n",
              "      <td>12546.0</td>\n",
              "      <td>JIM BEAM BRANDS COMPANY</td>\n",
              "    </tr>\n",
              "    <tr>\n",
              "      <th>3</th>\n",
              "      <td>1_HARDERSFIELD_1004</td>\n",
              "      <td>1</td>\n",
              "      <td>1004</td>\n",
              "      <td>Jim Beam w/2 Rocks Glasses</td>\n",
              "      <td>750mL</td>\n",
              "      <td>1.0</td>\n",
              "      <td>14.49</td>\n",
              "      <td>14.49</td>\n",
              "      <td>1/8/2016</td>\n",
              "      <td>750.0</td>\n",
              "      <td>1.0</td>\n",
              "      <td>0.79</td>\n",
              "      <td>12546.0</td>\n",
              "      <td>JIM BEAM BRANDS COMPANY</td>\n",
              "    </tr>\n",
              "    <tr>\n",
              "      <th>4</th>\n",
              "      <td>1_HARDERSFIELD_1005</td>\n",
              "      <td>1</td>\n",
              "      <td>1005</td>\n",
              "      <td>Maker's Mark Combo Pack</td>\n",
              "      <td>375mL 2 Pk</td>\n",
              "      <td>2.0</td>\n",
              "      <td>69.98</td>\n",
              "      <td>34.99</td>\n",
              "      <td>1/9/2016</td>\n",
              "      <td>375.0</td>\n",
              "      <td>1.0</td>\n",
              "      <td>0.79</td>\n",
              "      <td>12546.0</td>\n",
              "      <td>JIM BEAM BRANDS COMPANY</td>\n",
              "    </tr>\n",
              "  </tbody>\n",
              "</table>\n",
              "</div>\n",
              "    <div class=\"colab-df-buttons\">\n",
              "\n",
              "  <div class=\"colab-df-container\">\n",
              "    <button class=\"colab-df-convert\" onclick=\"convertToInteractive('df-0c5dbdcd-9181-497e-bb96-8797bd50bdbc')\"\n",
              "            title=\"Convert this dataframe to an interactive table.\"\n",
              "            style=\"display:none;\">\n",
              "\n",
              "  <svg xmlns=\"http://www.w3.org/2000/svg\" height=\"24px\" viewBox=\"0 -960 960 960\">\n",
              "    <path d=\"M120-120v-720h720v720H120Zm60-500h600v-160H180v160Zm220 220h160v-160H400v160Zm0 220h160v-160H400v160ZM180-400h160v-160H180v160Zm440 0h160v-160H620v160ZM180-180h160v-160H180v160Zm440 0h160v-160H620v160Z\"/>\n",
              "  </svg>\n",
              "    </button>\n",
              "\n",
              "  <style>\n",
              "    .colab-df-container {\n",
              "      display:flex;\n",
              "      gap: 12px;\n",
              "    }\n",
              "\n",
              "    .colab-df-convert {\n",
              "      background-color: #E8F0FE;\n",
              "      border: none;\n",
              "      border-radius: 50%;\n",
              "      cursor: pointer;\n",
              "      display: none;\n",
              "      fill: #1967D2;\n",
              "      height: 32px;\n",
              "      padding: 0 0 0 0;\n",
              "      width: 32px;\n",
              "    }\n",
              "\n",
              "    .colab-df-convert:hover {\n",
              "      background-color: #E2EBFA;\n",
              "      box-shadow: 0px 1px 2px rgba(60, 64, 67, 0.3), 0px 1px 3px 1px rgba(60, 64, 67, 0.15);\n",
              "      fill: #174EA6;\n",
              "    }\n",
              "\n",
              "    .colab-df-buttons div {\n",
              "      margin-bottom: 4px;\n",
              "    }\n",
              "\n",
              "    [theme=dark] .colab-df-convert {\n",
              "      background-color: #3B4455;\n",
              "      fill: #D2E3FC;\n",
              "    }\n",
              "\n",
              "    [theme=dark] .colab-df-convert:hover {\n",
              "      background-color: #434B5C;\n",
              "      box-shadow: 0px 1px 3px 1px rgba(0, 0, 0, 0.15);\n",
              "      filter: drop-shadow(0px 1px 2px rgba(0, 0, 0, 0.3));\n",
              "      fill: #FFFFFF;\n",
              "    }\n",
              "  </style>\n",
              "\n",
              "    <script>\n",
              "      const buttonEl =\n",
              "        document.querySelector('#df-0c5dbdcd-9181-497e-bb96-8797bd50bdbc button.colab-df-convert');\n",
              "      buttonEl.style.display =\n",
              "        google.colab.kernel.accessAllowed ? 'block' : 'none';\n",
              "\n",
              "      async function convertToInteractive(key) {\n",
              "        const element = document.querySelector('#df-0c5dbdcd-9181-497e-bb96-8797bd50bdbc');\n",
              "        const dataTable =\n",
              "          await google.colab.kernel.invokeFunction('convertToInteractive',\n",
              "                                                    [key], {});\n",
              "        if (!dataTable) return;\n",
              "\n",
              "        const docLinkHtml = 'Like what you see? Visit the ' +\n",
              "          '<a target=\"_blank\" href=https://colab.research.google.com/notebooks/data_table.ipynb>data table notebook</a>'\n",
              "          + ' to learn more about interactive tables.';\n",
              "        element.innerHTML = '';\n",
              "        dataTable['output_type'] = 'display_data';\n",
              "        await google.colab.output.renderOutput(dataTable, element);\n",
              "        const docLink = document.createElement('div');\n",
              "        docLink.innerHTML = docLinkHtml;\n",
              "        element.appendChild(docLink);\n",
              "      }\n",
              "    </script>\n",
              "  </div>\n",
              "\n",
              "\n",
              "    <div id=\"df-d4c44e94-b6c3-4467-b799-21d795f3c6e6\">\n",
              "      <button class=\"colab-df-quickchart\" onclick=\"quickchart('df-d4c44e94-b6c3-4467-b799-21d795f3c6e6')\"\n",
              "                title=\"Suggest charts\"\n",
              "                style=\"display:none;\">\n",
              "\n",
              "<svg xmlns=\"http://www.w3.org/2000/svg\" height=\"24px\"viewBox=\"0 0 24 24\"\n",
              "     width=\"24px\">\n",
              "    <g>\n",
              "        <path d=\"M19 3H5c-1.1 0-2 .9-2 2v14c0 1.1.9 2 2 2h14c1.1 0 2-.9 2-2V5c0-1.1-.9-2-2-2zM9 17H7v-7h2v7zm4 0h-2V7h2v10zm4 0h-2v-4h2v4z\"/>\n",
              "    </g>\n",
              "</svg>\n",
              "      </button>\n",
              "\n",
              "<style>\n",
              "  .colab-df-quickchart {\n",
              "      --bg-color: #E8F0FE;\n",
              "      --fill-color: #1967D2;\n",
              "      --hover-bg-color: #E2EBFA;\n",
              "      --hover-fill-color: #174EA6;\n",
              "      --disabled-fill-color: #AAA;\n",
              "      --disabled-bg-color: #DDD;\n",
              "  }\n",
              "\n",
              "  [theme=dark] .colab-df-quickchart {\n",
              "      --bg-color: #3B4455;\n",
              "      --fill-color: #D2E3FC;\n",
              "      --hover-bg-color: #434B5C;\n",
              "      --hover-fill-color: #FFFFFF;\n",
              "      --disabled-bg-color: #3B4455;\n",
              "      --disabled-fill-color: #666;\n",
              "  }\n",
              "\n",
              "  .colab-df-quickchart {\n",
              "    background-color: var(--bg-color);\n",
              "    border: none;\n",
              "    border-radius: 50%;\n",
              "    cursor: pointer;\n",
              "    display: none;\n",
              "    fill: var(--fill-color);\n",
              "    height: 32px;\n",
              "    padding: 0;\n",
              "    width: 32px;\n",
              "  }\n",
              "\n",
              "  .colab-df-quickchart:hover {\n",
              "    background-color: var(--hover-bg-color);\n",
              "    box-shadow: 0 1px 2px rgba(60, 64, 67, 0.3), 0 1px 3px 1px rgba(60, 64, 67, 0.15);\n",
              "    fill: var(--button-hover-fill-color);\n",
              "  }\n",
              "\n",
              "  .colab-df-quickchart-complete:disabled,\n",
              "  .colab-df-quickchart-complete:disabled:hover {\n",
              "    background-color: var(--disabled-bg-color);\n",
              "    fill: var(--disabled-fill-color);\n",
              "    box-shadow: none;\n",
              "  }\n",
              "\n",
              "  .colab-df-spinner {\n",
              "    border: 2px solid var(--fill-color);\n",
              "    border-color: transparent;\n",
              "    border-bottom-color: var(--fill-color);\n",
              "    animation:\n",
              "      spin 1s steps(1) infinite;\n",
              "  }\n",
              "\n",
              "  @keyframes spin {\n",
              "    0% {\n",
              "      border-color: transparent;\n",
              "      border-bottom-color: var(--fill-color);\n",
              "      border-left-color: var(--fill-color);\n",
              "    }\n",
              "    20% {\n",
              "      border-color: transparent;\n",
              "      border-left-color: var(--fill-color);\n",
              "      border-top-color: var(--fill-color);\n",
              "    }\n",
              "    30% {\n",
              "      border-color: transparent;\n",
              "      border-left-color: var(--fill-color);\n",
              "      border-top-color: var(--fill-color);\n",
              "      border-right-color: var(--fill-color);\n",
              "    }\n",
              "    40% {\n",
              "      border-color: transparent;\n",
              "      border-right-color: var(--fill-color);\n",
              "      border-top-color: var(--fill-color);\n",
              "    }\n",
              "    60% {\n",
              "      border-color: transparent;\n",
              "      border-right-color: var(--fill-color);\n",
              "    }\n",
              "    80% {\n",
              "      border-color: transparent;\n",
              "      border-right-color: var(--fill-color);\n",
              "      border-bottom-color: var(--fill-color);\n",
              "    }\n",
              "    90% {\n",
              "      border-color: transparent;\n",
              "      border-bottom-color: var(--fill-color);\n",
              "    }\n",
              "  }\n",
              "</style>\n",
              "\n",
              "      <script>\n",
              "        async function quickchart(key) {\n",
              "          const quickchartButtonEl =\n",
              "            document.querySelector('#' + key + ' button');\n",
              "          quickchartButtonEl.disabled = true;  // To prevent multiple clicks.\n",
              "          quickchartButtonEl.classList.add('colab-df-spinner');\n",
              "          try {\n",
              "            const charts = await google.colab.kernel.invokeFunction(\n",
              "                'suggestCharts', [key], {});\n",
              "          } catch (error) {\n",
              "            console.error('Error during call to suggestCharts:', error);\n",
              "          }\n",
              "          quickchartButtonEl.classList.remove('colab-df-spinner');\n",
              "          quickchartButtonEl.classList.add('colab-df-quickchart-complete');\n",
              "        }\n",
              "        (() => {\n",
              "          let quickchartButtonEl =\n",
              "            document.querySelector('#df-d4c44e94-b6c3-4467-b799-21d795f3c6e6 button');\n",
              "          quickchartButtonEl.style.display =\n",
              "            google.colab.kernel.accessAllowed ? 'block' : 'none';\n",
              "        })();\n",
              "      </script>\n",
              "    </div>\n",
              "\n",
              "    </div>\n",
              "  </div>\n"
            ],
            "application/vnd.google.colaboratory.intrinsic+json": {
              "type": "dataframe",
              "variable_name": "df",
              "summary": "{\n  \"name\": \"df\",\n  \"rows\": 51770,\n  \"fields\": [\n    {\n      \"column\": \"InventoryId\",\n      \"properties\": {\n        \"dtype\": \"category\",\n        \"num_unique_values\": 8513,\n        \"samples\": [\n          \"10_HORNSEY_38179\",\n          \"10_HORNSEY_16727\",\n          \"11_CARDEND_16610\"\n        ],\n        \"semantic_type\": \"\",\n        \"description\": \"\"\n      }\n    },\n    {\n      \"column\": \"Store\",\n      \"properties\": {\n        \"dtype\": \"number\",\n        \"std\": 4,\n        \"min\": 1,\n        \"max\": 12,\n        \"num_unique_values\": 4,\n        \"samples\": [\n          10,\n          12,\n          1\n        ],\n        \"semantic_type\": \"\",\n        \"description\": \"\"\n      }\n    },\n    {\n      \"column\": \"Brand\",\n      \"properties\": {\n        \"dtype\": \"number\",\n        \"std\": 12523,\n        \"min\": 58,\n        \"max\": 47090,\n        \"num_unique_values\": 3789,\n        \"samples\": [\n          37607,\n          5505,\n          14457\n        ],\n        \"semantic_type\": \"\",\n        \"description\": \"\"\n      }\n    },\n    {\n      \"column\": \"Description\",\n      \"properties\": {\n        \"dtype\": \"category\",\n        \"num_unique_values\": 3306,\n        \"samples\": [\n          \"Four Roses Single Barrel Brb\",\n          \"Rex Goliath Red Sangria\",\n          \"Michter's Straight Rye\"\n        ],\n        \"semantic_type\": \"\",\n        \"description\": \"\"\n      }\n    },\n    {\n      \"column\": \"Size\",\n      \"properties\": {\n        \"dtype\": \"category\",\n        \"num_unique_values\": 35,\n        \"samples\": [\n          \"4L\",\n          \"3L\",\n          \"3/100mL\"\n        ],\n        \"semantic_type\": \"\",\n        \"description\": \"\"\n      }\n    },\n    {\n      \"column\": \"SalesQuantity\",\n      \"properties\": {\n        \"dtype\": \"number\",\n        \"std\": 3.3297764002460095,\n        \"min\": 1.0,\n        \"max\": 143.0,\n        \"num_unique_values\": 59,\n        \"samples\": [\n          1.0,\n          6.0,\n          27.0\n        ],\n        \"semantic_type\": \"\",\n        \"description\": \"\"\n      }\n    },\n    {\n      \"column\": \"SalesDollars\",\n      \"properties\": {\n        \"dtype\": \"number\",\n        \"std\": 55.15606701012806,\n        \"min\": 0.49,\n        \"max\": 4499.4,\n        \"num_unique_values\": 1169,\n        \"samples\": [\n          31.84,\n          3058.98,\n          31.99\n        ],\n        \"semantic_type\": \"\",\n        \"description\": \"\"\n      }\n    },\n    {\n      \"column\": \"SalesPrice\",\n      \"properties\": {\n        \"dtype\": \"number\",\n        \"std\": 12.415068896762275,\n        \"min\": 0.49,\n        \"max\": 349.99,\n        \"num_unique_values\": 160,\n        \"samples\": [\n          15.49,\n          66.99,\n          139.99\n        ],\n        \"semantic_type\": \"\",\n        \"description\": \"\"\n      }\n    },\n    {\n      \"column\": \"SalesDate\",\n      \"properties\": {\n        \"dtype\": \"object\",\n        \"num_unique_values\": 31,\n        \"samples\": [\n          \"1/21/2016\",\n          \"1/7/2016\",\n          \"1/4/2016\"\n        ],\n        \"semantic_type\": \"\",\n        \"description\": \"\"\n      }\n    },\n    {\n      \"column\": \"Volume\",\n      \"properties\": {\n        \"dtype\": \"number\",\n        \"std\": 661.1643867598757,\n        \"min\": 50.0,\n        \"max\": 5000.0,\n        \"num_unique_values\": 18,\n        \"samples\": [\n          750.0,\n          375.0,\n          1750.0\n        ],\n        \"semantic_type\": \"\",\n        \"description\": \"\"\n      }\n    },\n    {\n      \"column\": \"Classification\",\n      \"properties\": {\n        \"dtype\": \"number\",\n        \"std\": 0.49474535319160373,\n        \"min\": 1.0,\n        \"max\": 2.0,\n        \"num_unique_values\": 2,\n        \"samples\": [\n          2.0,\n          1.0\n        ],\n        \"semantic_type\": \"\",\n        \"description\": \"\"\n      }\n    },\n    {\n      \"column\": \"ExciseTax\",\n      \"properties\": {\n        \"dtype\": \"number\",\n        \"std\": 2.8847524275084133,\n        \"min\": 0.01,\n        \"max\": 220.5,\n        \"num_unique_values\": 196,\n        \"samples\": [\n          1.99,\n          6.09\n        ],\n        \"semantic_type\": \"\",\n        \"description\": \"\"\n      }\n    },\n    {\n      \"column\": \"VendorNo\",\n      \"properties\": {\n        \"dtype\": \"number\",\n        \"std\": 8406.34671242328,\n        \"min\": 105.0,\n        \"max\": 98450.0,\n        \"num_unique_values\": 96,\n        \"samples\": [\n          4848.0,\n          28776.0\n        ],\n        \"semantic_type\": \"\",\n        \"description\": \"\"\n      }\n    },\n    {\n      \"column\": \"VendorName\",\n      \"properties\": {\n        \"dtype\": \"category\",\n        \"num_unique_values\": 97,\n        \"samples\": [\n          \"ATLANTIC IMPORTING COMPANY \",\n          \"STOLI GROUP,(USA) LLC      \"\n        ],\n        \"semantic_type\": \"\",\n        \"description\": \"\"\n      }\n    }\n  ]\n}"
            }
          },
          "metadata": {},
          "execution_count": 3
        }
      ]
    },
    {
      "cell_type": "code",
      "source": [
        "df.shape"
      ],
      "metadata": {
        "colab": {
          "base_uri": "https://localhost:8080/"
        },
        "id": "vFqwjCqG_a0G",
        "outputId": "e8acbc25-0959-4763-da7e-1697112d739d"
      },
      "execution_count": 7,
      "outputs": [
        {
          "output_type": "execute_result",
          "data": {
            "text/plain": [
              "(43049, 14)"
            ]
          },
          "metadata": {},
          "execution_count": 7
        }
      ]
    },
    {
      "cell_type": "code",
      "source": [
        "df.describe()"
      ],
      "metadata": {
        "colab": {
          "base_uri": "https://localhost:8080/",
          "height": 300
        },
        "id": "7-7B3S2v_pAz",
        "outputId": "dc240638-0c19-4b16-b0fe-41a5e95c5b20"
      },
      "execution_count": 8,
      "outputs": [
        {
          "output_type": "execute_result",
          "data": {
            "text/plain": [
              "              Store         Brand  SalesQuantity  SalesDollars    SalesPrice  \\\n",
              "count  43049.000000  43049.000000   43049.000000  43049.000000  43048.000000   \n",
              "mean       6.460127  12061.951451       2.434040     31.182623     15.457753   \n",
              "std        4.595913  12110.201157       3.489268     57.539063     12.616915   \n",
              "min        1.000000     58.000000       1.000000      0.990000      0.990000   \n",
              "25%        1.000000   3529.000000       1.000000     10.990000      8.990000   \n",
              "50%       10.000000   6021.000000       1.000000     17.990000     12.990000   \n",
              "75%       10.000000  18347.000000       2.000000     32.970000     18.990000   \n",
              "max       11.000000  47090.000000     143.000000   4499.400000    349.990000   \n",
              "\n",
              "             Volume  Classification     ExciseTax      VendorNo  \n",
              "count  43048.000000    43048.000000  43048.000000  43048.000000  \n",
              "mean     916.949289        1.416512      1.288704   6974.875906  \n",
              "std      656.533076        0.492986      3.039252   8413.473843  \n",
              "min       50.000000        1.000000      0.010000    105.000000  \n",
              "25%      750.000000        1.000000      0.210000   3252.000000  \n",
              "50%      750.000000        1.000000      0.680000   4425.000000  \n",
              "75%     1000.000000        2.000000      1.570000   9552.000000  \n",
              "max     5000.000000        2.000000    220.500000  98450.000000  "
            ],
            "text/html": [
              "\n",
              "  <div id=\"df-e4964f2a-1a35-4918-8f97-5e55149dc1eb\" class=\"colab-df-container\">\n",
              "    <div>\n",
              "<style scoped>\n",
              "    .dataframe tbody tr th:only-of-type {\n",
              "        vertical-align: middle;\n",
              "    }\n",
              "\n",
              "    .dataframe tbody tr th {\n",
              "        vertical-align: top;\n",
              "    }\n",
              "\n",
              "    .dataframe thead th {\n",
              "        text-align: right;\n",
              "    }\n",
              "</style>\n",
              "<table border=\"1\" class=\"dataframe\">\n",
              "  <thead>\n",
              "    <tr style=\"text-align: right;\">\n",
              "      <th></th>\n",
              "      <th>Store</th>\n",
              "      <th>Brand</th>\n",
              "      <th>SalesQuantity</th>\n",
              "      <th>SalesDollars</th>\n",
              "      <th>SalesPrice</th>\n",
              "      <th>Volume</th>\n",
              "      <th>Classification</th>\n",
              "      <th>ExciseTax</th>\n",
              "      <th>VendorNo</th>\n",
              "    </tr>\n",
              "  </thead>\n",
              "  <tbody>\n",
              "    <tr>\n",
              "      <th>count</th>\n",
              "      <td>43049.000000</td>\n",
              "      <td>43049.000000</td>\n",
              "      <td>43049.000000</td>\n",
              "      <td>43049.000000</td>\n",
              "      <td>43048.000000</td>\n",
              "      <td>43048.000000</td>\n",
              "      <td>43048.000000</td>\n",
              "      <td>43048.000000</td>\n",
              "      <td>43048.000000</td>\n",
              "    </tr>\n",
              "    <tr>\n",
              "      <th>mean</th>\n",
              "      <td>6.460127</td>\n",
              "      <td>12061.951451</td>\n",
              "      <td>2.434040</td>\n",
              "      <td>31.182623</td>\n",
              "      <td>15.457753</td>\n",
              "      <td>916.949289</td>\n",
              "      <td>1.416512</td>\n",
              "      <td>1.288704</td>\n",
              "      <td>6974.875906</td>\n",
              "    </tr>\n",
              "    <tr>\n",
              "      <th>std</th>\n",
              "      <td>4.595913</td>\n",
              "      <td>12110.201157</td>\n",
              "      <td>3.489268</td>\n",
              "      <td>57.539063</td>\n",
              "      <td>12.616915</td>\n",
              "      <td>656.533076</td>\n",
              "      <td>0.492986</td>\n",
              "      <td>3.039252</td>\n",
              "      <td>8413.473843</td>\n",
              "    </tr>\n",
              "    <tr>\n",
              "      <th>min</th>\n",
              "      <td>1.000000</td>\n",
              "      <td>58.000000</td>\n",
              "      <td>1.000000</td>\n",
              "      <td>0.990000</td>\n",
              "      <td>0.990000</td>\n",
              "      <td>50.000000</td>\n",
              "      <td>1.000000</td>\n",
              "      <td>0.010000</td>\n",
              "      <td>105.000000</td>\n",
              "    </tr>\n",
              "    <tr>\n",
              "      <th>25%</th>\n",
              "      <td>1.000000</td>\n",
              "      <td>3529.000000</td>\n",
              "      <td>1.000000</td>\n",
              "      <td>10.990000</td>\n",
              "      <td>8.990000</td>\n",
              "      <td>750.000000</td>\n",
              "      <td>1.000000</td>\n",
              "      <td>0.210000</td>\n",
              "      <td>3252.000000</td>\n",
              "    </tr>\n",
              "    <tr>\n",
              "      <th>50%</th>\n",
              "      <td>10.000000</td>\n",
              "      <td>6021.000000</td>\n",
              "      <td>1.000000</td>\n",
              "      <td>17.990000</td>\n",
              "      <td>12.990000</td>\n",
              "      <td>750.000000</td>\n",
              "      <td>1.000000</td>\n",
              "      <td>0.680000</td>\n",
              "      <td>4425.000000</td>\n",
              "    </tr>\n",
              "    <tr>\n",
              "      <th>75%</th>\n",
              "      <td>10.000000</td>\n",
              "      <td>18347.000000</td>\n",
              "      <td>2.000000</td>\n",
              "      <td>32.970000</td>\n",
              "      <td>18.990000</td>\n",
              "      <td>1000.000000</td>\n",
              "      <td>2.000000</td>\n",
              "      <td>1.570000</td>\n",
              "      <td>9552.000000</td>\n",
              "    </tr>\n",
              "    <tr>\n",
              "      <th>max</th>\n",
              "      <td>11.000000</td>\n",
              "      <td>47090.000000</td>\n",
              "      <td>143.000000</td>\n",
              "      <td>4499.400000</td>\n",
              "      <td>349.990000</td>\n",
              "      <td>5000.000000</td>\n",
              "      <td>2.000000</td>\n",
              "      <td>220.500000</td>\n",
              "      <td>98450.000000</td>\n",
              "    </tr>\n",
              "  </tbody>\n",
              "</table>\n",
              "</div>\n",
              "    <div class=\"colab-df-buttons\">\n",
              "\n",
              "  <div class=\"colab-df-container\">\n",
              "    <button class=\"colab-df-convert\" onclick=\"convertToInteractive('df-e4964f2a-1a35-4918-8f97-5e55149dc1eb')\"\n",
              "            title=\"Convert this dataframe to an interactive table.\"\n",
              "            style=\"display:none;\">\n",
              "\n",
              "  <svg xmlns=\"http://www.w3.org/2000/svg\" height=\"24px\" viewBox=\"0 -960 960 960\">\n",
              "    <path d=\"M120-120v-720h720v720H120Zm60-500h600v-160H180v160Zm220 220h160v-160H400v160Zm0 220h160v-160H400v160ZM180-400h160v-160H180v160Zm440 0h160v-160H620v160ZM180-180h160v-160H180v160Zm440 0h160v-160H620v160Z\"/>\n",
              "  </svg>\n",
              "    </button>\n",
              "\n",
              "  <style>\n",
              "    .colab-df-container {\n",
              "      display:flex;\n",
              "      gap: 12px;\n",
              "    }\n",
              "\n",
              "    .colab-df-convert {\n",
              "      background-color: #E8F0FE;\n",
              "      border: none;\n",
              "      border-radius: 50%;\n",
              "      cursor: pointer;\n",
              "      display: none;\n",
              "      fill: #1967D2;\n",
              "      height: 32px;\n",
              "      padding: 0 0 0 0;\n",
              "      width: 32px;\n",
              "    }\n",
              "\n",
              "    .colab-df-convert:hover {\n",
              "      background-color: #E2EBFA;\n",
              "      box-shadow: 0px 1px 2px rgba(60, 64, 67, 0.3), 0px 1px 3px 1px rgba(60, 64, 67, 0.15);\n",
              "      fill: #174EA6;\n",
              "    }\n",
              "\n",
              "    .colab-df-buttons div {\n",
              "      margin-bottom: 4px;\n",
              "    }\n",
              "\n",
              "    [theme=dark] .colab-df-convert {\n",
              "      background-color: #3B4455;\n",
              "      fill: #D2E3FC;\n",
              "    }\n",
              "\n",
              "    [theme=dark] .colab-df-convert:hover {\n",
              "      background-color: #434B5C;\n",
              "      box-shadow: 0px 1px 3px 1px rgba(0, 0, 0, 0.15);\n",
              "      filter: drop-shadow(0px 1px 2px rgba(0, 0, 0, 0.3));\n",
              "      fill: #FFFFFF;\n",
              "    }\n",
              "  </style>\n",
              "\n",
              "    <script>\n",
              "      const buttonEl =\n",
              "        document.querySelector('#df-e4964f2a-1a35-4918-8f97-5e55149dc1eb button.colab-df-convert');\n",
              "      buttonEl.style.display =\n",
              "        google.colab.kernel.accessAllowed ? 'block' : 'none';\n",
              "\n",
              "      async function convertToInteractive(key) {\n",
              "        const element = document.querySelector('#df-e4964f2a-1a35-4918-8f97-5e55149dc1eb');\n",
              "        const dataTable =\n",
              "          await google.colab.kernel.invokeFunction('convertToInteractive',\n",
              "                                                    [key], {});\n",
              "        if (!dataTable) return;\n",
              "\n",
              "        const docLinkHtml = 'Like what you see? Visit the ' +\n",
              "          '<a target=\"_blank\" href=https://colab.research.google.com/notebooks/data_table.ipynb>data table notebook</a>'\n",
              "          + ' to learn more about interactive tables.';\n",
              "        element.innerHTML = '';\n",
              "        dataTable['output_type'] = 'display_data';\n",
              "        await google.colab.output.renderOutput(dataTable, element);\n",
              "        const docLink = document.createElement('div');\n",
              "        docLink.innerHTML = docLinkHtml;\n",
              "        element.appendChild(docLink);\n",
              "      }\n",
              "    </script>\n",
              "  </div>\n",
              "\n",
              "\n",
              "    <div id=\"df-f5fa577f-d1ea-4b08-8bcc-f53bdbcd00de\">\n",
              "      <button class=\"colab-df-quickchart\" onclick=\"quickchart('df-f5fa577f-d1ea-4b08-8bcc-f53bdbcd00de')\"\n",
              "                title=\"Suggest charts\"\n",
              "                style=\"display:none;\">\n",
              "\n",
              "<svg xmlns=\"http://www.w3.org/2000/svg\" height=\"24px\"viewBox=\"0 0 24 24\"\n",
              "     width=\"24px\">\n",
              "    <g>\n",
              "        <path d=\"M19 3H5c-1.1 0-2 .9-2 2v14c0 1.1.9 2 2 2h14c1.1 0 2-.9 2-2V5c0-1.1-.9-2-2-2zM9 17H7v-7h2v7zm4 0h-2V7h2v10zm4 0h-2v-4h2v4z\"/>\n",
              "    </g>\n",
              "</svg>\n",
              "      </button>\n",
              "\n",
              "<style>\n",
              "  .colab-df-quickchart {\n",
              "      --bg-color: #E8F0FE;\n",
              "      --fill-color: #1967D2;\n",
              "      --hover-bg-color: #E2EBFA;\n",
              "      --hover-fill-color: #174EA6;\n",
              "      --disabled-fill-color: #AAA;\n",
              "      --disabled-bg-color: #DDD;\n",
              "  }\n",
              "\n",
              "  [theme=dark] .colab-df-quickchart {\n",
              "      --bg-color: #3B4455;\n",
              "      --fill-color: #D2E3FC;\n",
              "      --hover-bg-color: #434B5C;\n",
              "      --hover-fill-color: #FFFFFF;\n",
              "      --disabled-bg-color: #3B4455;\n",
              "      --disabled-fill-color: #666;\n",
              "  }\n",
              "\n",
              "  .colab-df-quickchart {\n",
              "    background-color: var(--bg-color);\n",
              "    border: none;\n",
              "    border-radius: 50%;\n",
              "    cursor: pointer;\n",
              "    display: none;\n",
              "    fill: var(--fill-color);\n",
              "    height: 32px;\n",
              "    padding: 0;\n",
              "    width: 32px;\n",
              "  }\n",
              "\n",
              "  .colab-df-quickchart:hover {\n",
              "    background-color: var(--hover-bg-color);\n",
              "    box-shadow: 0 1px 2px rgba(60, 64, 67, 0.3), 0 1px 3px 1px rgba(60, 64, 67, 0.15);\n",
              "    fill: var(--button-hover-fill-color);\n",
              "  }\n",
              "\n",
              "  .colab-df-quickchart-complete:disabled,\n",
              "  .colab-df-quickchart-complete:disabled:hover {\n",
              "    background-color: var(--disabled-bg-color);\n",
              "    fill: var(--disabled-fill-color);\n",
              "    box-shadow: none;\n",
              "  }\n",
              "\n",
              "  .colab-df-spinner {\n",
              "    border: 2px solid var(--fill-color);\n",
              "    border-color: transparent;\n",
              "    border-bottom-color: var(--fill-color);\n",
              "    animation:\n",
              "      spin 1s steps(1) infinite;\n",
              "  }\n",
              "\n",
              "  @keyframes spin {\n",
              "    0% {\n",
              "      border-color: transparent;\n",
              "      border-bottom-color: var(--fill-color);\n",
              "      border-left-color: var(--fill-color);\n",
              "    }\n",
              "    20% {\n",
              "      border-color: transparent;\n",
              "      border-left-color: var(--fill-color);\n",
              "      border-top-color: var(--fill-color);\n",
              "    }\n",
              "    30% {\n",
              "      border-color: transparent;\n",
              "      border-left-color: var(--fill-color);\n",
              "      border-top-color: var(--fill-color);\n",
              "      border-right-color: var(--fill-color);\n",
              "    }\n",
              "    40% {\n",
              "      border-color: transparent;\n",
              "      border-right-color: var(--fill-color);\n",
              "      border-top-color: var(--fill-color);\n",
              "    }\n",
              "    60% {\n",
              "      border-color: transparent;\n",
              "      border-right-color: var(--fill-color);\n",
              "    }\n",
              "    80% {\n",
              "      border-color: transparent;\n",
              "      border-right-color: var(--fill-color);\n",
              "      border-bottom-color: var(--fill-color);\n",
              "    }\n",
              "    90% {\n",
              "      border-color: transparent;\n",
              "      border-bottom-color: var(--fill-color);\n",
              "    }\n",
              "  }\n",
              "</style>\n",
              "\n",
              "      <script>\n",
              "        async function quickchart(key) {\n",
              "          const quickchartButtonEl =\n",
              "            document.querySelector('#' + key + ' button');\n",
              "          quickchartButtonEl.disabled = true;  // To prevent multiple clicks.\n",
              "          quickchartButtonEl.classList.add('colab-df-spinner');\n",
              "          try {\n",
              "            const charts = await google.colab.kernel.invokeFunction(\n",
              "                'suggestCharts', [key], {});\n",
              "          } catch (error) {\n",
              "            console.error('Error during call to suggestCharts:', error);\n",
              "          }\n",
              "          quickchartButtonEl.classList.remove('colab-df-spinner');\n",
              "          quickchartButtonEl.classList.add('colab-df-quickchart-complete');\n",
              "        }\n",
              "        (() => {\n",
              "          let quickchartButtonEl =\n",
              "            document.querySelector('#df-f5fa577f-d1ea-4b08-8bcc-f53bdbcd00de button');\n",
              "          quickchartButtonEl.style.display =\n",
              "            google.colab.kernel.accessAllowed ? 'block' : 'none';\n",
              "        })();\n",
              "      </script>\n",
              "    </div>\n",
              "\n",
              "    </div>\n",
              "  </div>\n"
            ],
            "application/vnd.google.colaboratory.intrinsic+json": {
              "type": "dataframe",
              "summary": "{\n  \"name\": \"df\",\n  \"rows\": 8,\n  \"fields\": [\n    {\n      \"column\": \"Store\",\n      \"properties\": {\n        \"dtype\": \"number\",\n        \"std\": 15217.895255249918,\n        \"min\": 1.0,\n        \"max\": 43049.0,\n        \"num_unique_values\": 6,\n        \"samples\": [\n          43049.0,\n          6.460126832214454,\n          11.0\n        ],\n        \"semantic_type\": \"\",\n        \"description\": \"\"\n      }\n    },\n    {\n      \"column\": \"Brand\",\n      \"properties\": {\n        \"dtype\": \"number\",\n        \"std\": 17801.27173885179,\n        \"min\": 58.0,\n        \"max\": 47090.0,\n        \"num_unique_values\": 8,\n        \"samples\": [\n          12061.95145067249,\n          6021.0,\n          43049.0\n        ],\n        \"semantic_type\": \"\",\n        \"description\": \"\"\n      }\n    },\n    {\n      \"column\": \"SalesQuantity\",\n      \"properties\": {\n        \"dtype\": \"number\",\n        \"std\": 15212.425852873233,\n        \"min\": 1.0,\n        \"max\": 43049.0,\n        \"num_unique_values\": 6,\n        \"samples\": [\n          43049.0,\n          2.434040279681293,\n          143.0\n        ],\n        \"semantic_type\": \"\",\n        \"description\": \"\"\n      }\n    },\n    {\n      \"column\": \"SalesDollars\",\n      \"properties\": {\n        \"dtype\": \"number\",\n        \"std\": 15066.779119658118,\n        \"min\": 0.99,\n        \"max\": 43049.0,\n        \"num_unique_values\": 8,\n        \"samples\": [\n          31.182622592859303,\n          17.99,\n          43049.0\n        ],\n        \"semantic_type\": \"\",\n        \"description\": \"\"\n      }\n    },\n    {\n      \"column\": \"SalesPrice\",\n      \"properties\": {\n        \"dtype\": \"number\",\n        \"std\": 15199.013878815565,\n        \"min\": 0.99,\n        \"max\": 43048.0,\n        \"num_unique_values\": 8,\n        \"samples\": [\n          15.457752973425016,\n          12.99,\n          43048.0\n        ],\n        \"semantic_type\": \"\",\n        \"description\": \"\"\n      }\n    },\n    {\n      \"column\": \"Volume\",\n      \"properties\": {\n        \"dtype\": \"number\",\n        \"std\": 14838.640143503904,\n        \"min\": 50.0,\n        \"max\": 43048.0,\n        \"num_unique_values\": 7,\n        \"samples\": [\n          43048.0,\n          916.9492891655826,\n          1000.0\n        ],\n        \"semantic_type\": \"\",\n        \"description\": \"\"\n      }\n    },\n    {\n      \"column\": \"Classification\",\n      \"properties\": {\n        \"dtype\": \"number\",\n        \"std\": 15219.316369619413,\n        \"min\": 0.49298617249795534,\n        \"max\": 43048.0,\n        \"num_unique_values\": 5,\n        \"samples\": [\n          1.416511800780524,\n          2.0,\n          0.49298617249795534\n        ],\n        \"semantic_type\": \"\",\n        \"description\": \"\"\n      }\n    },\n    {\n      \"column\": \"ExciseTax\",\n      \"properties\": {\n        \"dtype\": \"number\",\n        \"std\": 15208.47983138547,\n        \"min\": 0.01,\n        \"max\": 43048.0,\n        \"num_unique_values\": 8,\n        \"samples\": [\n          1.288704469429474,\n          0.68,\n          43048.0\n        ],\n        \"semantic_type\": \"\",\n        \"description\": \"\"\n      }\n    },\n    {\n      \"column\": \"VendorNo\",\n      \"properties\": {\n        \"dtype\": \"number\",\n        \"std\": 33789.86495276425,\n        \"min\": 105.0,\n        \"max\": 98450.0,\n        \"num_unique_values\": 8,\n        \"samples\": [\n          6974.875905965434,\n          4425.0,\n          43048.0\n        ],\n        \"semantic_type\": \"\",\n        \"description\": \"\"\n      }\n    }\n  ]\n}"
            }
          },
          "metadata": {},
          "execution_count": 8
        }
      ]
    },
    {
      "cell_type": "code",
      "source": [
        "df.info()"
      ],
      "metadata": {
        "colab": {
          "base_uri": "https://localhost:8080/"
        },
        "id": "KH_tjIXeAYXC",
        "outputId": "854417a9-299a-4c69-b7a3-dd7816c9a62f"
      },
      "execution_count": 9,
      "outputs": [
        {
          "output_type": "stream",
          "name": "stdout",
          "text": [
            "<class 'pandas.core.frame.DataFrame'>\n",
            "RangeIndex: 43049 entries, 0 to 43048\n",
            "Data columns (total 14 columns):\n",
            " #   Column          Non-Null Count  Dtype  \n",
            "---  ------          --------------  -----  \n",
            " 0   InventoryId     43049 non-null  object \n",
            " 1   Store           43049 non-null  int64  \n",
            " 2   Brand           43049 non-null  int64  \n",
            " 3   Description     43049 non-null  object \n",
            " 4   Size            43049 non-null  object \n",
            " 5   SalesQuantity   43049 non-null  int64  \n",
            " 6   SalesDollars    43049 non-null  float64\n",
            " 7   SalesPrice      43048 non-null  float64\n",
            " 8   SalesDate       43048 non-null  object \n",
            " 9   Volume          43048 non-null  float64\n",
            " 10  Classification  43048 non-null  float64\n",
            " 11  ExciseTax       43048 non-null  float64\n",
            " 12  VendorNo        43048 non-null  float64\n",
            " 13  VendorName      43048 non-null  object \n",
            "dtypes: float64(6), int64(3), object(5)\n",
            "memory usage: 4.6+ MB\n"
          ]
        }
      ]
    },
    {
      "cell_type": "markdown",
      "source": [
        "#Converting SalesData object data type to DateTime datatype"
      ],
      "metadata": {
        "id": "I6ymIzl0AwXQ"
      }
    },
    {
      "cell_type": "code",
      "source": [
        "df['SalesDate'] = pd.to_datetime(df['SalesDate'])"
      ],
      "metadata": {
        "id": "oAbtYtcmBoMG"
      },
      "execution_count": 10,
      "outputs": []
    },
    {
      "cell_type": "code",
      "source": [
        "df = df.drop(['VendorName', 'InventoryId', 'Description', 'VendorNo'], axis=1)\n"
      ],
      "metadata": {
        "id": "8o2t_0hTAykb"
      },
      "execution_count": 11,
      "outputs": []
    },
    {
      "cell_type": "code",
      "source": [
        "df.head()"
      ],
      "metadata": {
        "colab": {
          "base_uri": "https://localhost:8080/",
          "height": 206
        },
        "id": "GeCbfQFMCOfE",
        "outputId": "753e029f-e4e1-4c57-f310-71e708345564"
      },
      "execution_count": 12,
      "outputs": [
        {
          "output_type": "execute_result",
          "data": {
            "text/plain": [
              "   Store  Brand        Size  SalesQuantity  SalesDollars  SalesPrice  \\\n",
              "0      1   1004       750mL              1         16.49       16.49   \n",
              "1      1   1004       750mL              2         32.98       16.49   \n",
              "2      1   1004       750mL              1         16.49       16.49   \n",
              "3      1   1004       750mL              1         14.49       14.49   \n",
              "4      1   1005  375mL 2 Pk              2         69.98       34.99   \n",
              "\n",
              "   SalesDate  Volume  Classification  ExciseTax  \n",
              "0 2016-01-01   750.0             1.0       0.79  \n",
              "1 2016-01-02   750.0             1.0       1.57  \n",
              "2 2016-01-03   750.0             1.0       0.79  \n",
              "3 2016-01-08   750.0             1.0       0.79  \n",
              "4 2016-01-09   375.0             1.0       0.79  "
            ],
            "text/html": [
              "\n",
              "  <div id=\"df-f3cf78e9-16d3-4d01-86f3-a1228b7bd0d5\" class=\"colab-df-container\">\n",
              "    <div>\n",
              "<style scoped>\n",
              "    .dataframe tbody tr th:only-of-type {\n",
              "        vertical-align: middle;\n",
              "    }\n",
              "\n",
              "    .dataframe tbody tr th {\n",
              "        vertical-align: top;\n",
              "    }\n",
              "\n",
              "    .dataframe thead th {\n",
              "        text-align: right;\n",
              "    }\n",
              "</style>\n",
              "<table border=\"1\" class=\"dataframe\">\n",
              "  <thead>\n",
              "    <tr style=\"text-align: right;\">\n",
              "      <th></th>\n",
              "      <th>Store</th>\n",
              "      <th>Brand</th>\n",
              "      <th>Size</th>\n",
              "      <th>SalesQuantity</th>\n",
              "      <th>SalesDollars</th>\n",
              "      <th>SalesPrice</th>\n",
              "      <th>SalesDate</th>\n",
              "      <th>Volume</th>\n",
              "      <th>Classification</th>\n",
              "      <th>ExciseTax</th>\n",
              "    </tr>\n",
              "  </thead>\n",
              "  <tbody>\n",
              "    <tr>\n",
              "      <th>0</th>\n",
              "      <td>1</td>\n",
              "      <td>1004</td>\n",
              "      <td>750mL</td>\n",
              "      <td>1</td>\n",
              "      <td>16.49</td>\n",
              "      <td>16.49</td>\n",
              "      <td>2016-01-01</td>\n",
              "      <td>750.0</td>\n",
              "      <td>1.0</td>\n",
              "      <td>0.79</td>\n",
              "    </tr>\n",
              "    <tr>\n",
              "      <th>1</th>\n",
              "      <td>1</td>\n",
              "      <td>1004</td>\n",
              "      <td>750mL</td>\n",
              "      <td>2</td>\n",
              "      <td>32.98</td>\n",
              "      <td>16.49</td>\n",
              "      <td>2016-01-02</td>\n",
              "      <td>750.0</td>\n",
              "      <td>1.0</td>\n",
              "      <td>1.57</td>\n",
              "    </tr>\n",
              "    <tr>\n",
              "      <th>2</th>\n",
              "      <td>1</td>\n",
              "      <td>1004</td>\n",
              "      <td>750mL</td>\n",
              "      <td>1</td>\n",
              "      <td>16.49</td>\n",
              "      <td>16.49</td>\n",
              "      <td>2016-01-03</td>\n",
              "      <td>750.0</td>\n",
              "      <td>1.0</td>\n",
              "      <td>0.79</td>\n",
              "    </tr>\n",
              "    <tr>\n",
              "      <th>3</th>\n",
              "      <td>1</td>\n",
              "      <td>1004</td>\n",
              "      <td>750mL</td>\n",
              "      <td>1</td>\n",
              "      <td>14.49</td>\n",
              "      <td>14.49</td>\n",
              "      <td>2016-01-08</td>\n",
              "      <td>750.0</td>\n",
              "      <td>1.0</td>\n",
              "      <td>0.79</td>\n",
              "    </tr>\n",
              "    <tr>\n",
              "      <th>4</th>\n",
              "      <td>1</td>\n",
              "      <td>1005</td>\n",
              "      <td>375mL 2 Pk</td>\n",
              "      <td>2</td>\n",
              "      <td>69.98</td>\n",
              "      <td>34.99</td>\n",
              "      <td>2016-01-09</td>\n",
              "      <td>375.0</td>\n",
              "      <td>1.0</td>\n",
              "      <td>0.79</td>\n",
              "    </tr>\n",
              "  </tbody>\n",
              "</table>\n",
              "</div>\n",
              "    <div class=\"colab-df-buttons\">\n",
              "\n",
              "  <div class=\"colab-df-container\">\n",
              "    <button class=\"colab-df-convert\" onclick=\"convertToInteractive('df-f3cf78e9-16d3-4d01-86f3-a1228b7bd0d5')\"\n",
              "            title=\"Convert this dataframe to an interactive table.\"\n",
              "            style=\"display:none;\">\n",
              "\n",
              "  <svg xmlns=\"http://www.w3.org/2000/svg\" height=\"24px\" viewBox=\"0 -960 960 960\">\n",
              "    <path d=\"M120-120v-720h720v720H120Zm60-500h600v-160H180v160Zm220 220h160v-160H400v160Zm0 220h160v-160H400v160ZM180-400h160v-160H180v160Zm440 0h160v-160H620v160ZM180-180h160v-160H180v160Zm440 0h160v-160H620v160Z\"/>\n",
              "  </svg>\n",
              "    </button>\n",
              "\n",
              "  <style>\n",
              "    .colab-df-container {\n",
              "      display:flex;\n",
              "      gap: 12px;\n",
              "    }\n",
              "\n",
              "    .colab-df-convert {\n",
              "      background-color: #E8F0FE;\n",
              "      border: none;\n",
              "      border-radius: 50%;\n",
              "      cursor: pointer;\n",
              "      display: none;\n",
              "      fill: #1967D2;\n",
              "      height: 32px;\n",
              "      padding: 0 0 0 0;\n",
              "      width: 32px;\n",
              "    }\n",
              "\n",
              "    .colab-df-convert:hover {\n",
              "      background-color: #E2EBFA;\n",
              "      box-shadow: 0px 1px 2px rgba(60, 64, 67, 0.3), 0px 1px 3px 1px rgba(60, 64, 67, 0.15);\n",
              "      fill: #174EA6;\n",
              "    }\n",
              "\n",
              "    .colab-df-buttons div {\n",
              "      margin-bottom: 4px;\n",
              "    }\n",
              "\n",
              "    [theme=dark] .colab-df-convert {\n",
              "      background-color: #3B4455;\n",
              "      fill: #D2E3FC;\n",
              "    }\n",
              "\n",
              "    [theme=dark] .colab-df-convert:hover {\n",
              "      background-color: #434B5C;\n",
              "      box-shadow: 0px 1px 3px 1px rgba(0, 0, 0, 0.15);\n",
              "      filter: drop-shadow(0px 1px 2px rgba(0, 0, 0, 0.3));\n",
              "      fill: #FFFFFF;\n",
              "    }\n",
              "  </style>\n",
              "\n",
              "    <script>\n",
              "      const buttonEl =\n",
              "        document.querySelector('#df-f3cf78e9-16d3-4d01-86f3-a1228b7bd0d5 button.colab-df-convert');\n",
              "      buttonEl.style.display =\n",
              "        google.colab.kernel.accessAllowed ? 'block' : 'none';\n",
              "\n",
              "      async function convertToInteractive(key) {\n",
              "        const element = document.querySelector('#df-f3cf78e9-16d3-4d01-86f3-a1228b7bd0d5');\n",
              "        const dataTable =\n",
              "          await google.colab.kernel.invokeFunction('convertToInteractive',\n",
              "                                                    [key], {});\n",
              "        if (!dataTable) return;\n",
              "\n",
              "        const docLinkHtml = 'Like what you see? Visit the ' +\n",
              "          '<a target=\"_blank\" href=https://colab.research.google.com/notebooks/data_table.ipynb>data table notebook</a>'\n",
              "          + ' to learn more about interactive tables.';\n",
              "        element.innerHTML = '';\n",
              "        dataTable['output_type'] = 'display_data';\n",
              "        await google.colab.output.renderOutput(dataTable, element);\n",
              "        const docLink = document.createElement('div');\n",
              "        docLink.innerHTML = docLinkHtml;\n",
              "        element.appendChild(docLink);\n",
              "      }\n",
              "    </script>\n",
              "  </div>\n",
              "\n",
              "\n",
              "    <div id=\"df-a34bbd75-ebb7-487f-af6f-2558f639006a\">\n",
              "      <button class=\"colab-df-quickchart\" onclick=\"quickchart('df-a34bbd75-ebb7-487f-af6f-2558f639006a')\"\n",
              "                title=\"Suggest charts\"\n",
              "                style=\"display:none;\">\n",
              "\n",
              "<svg xmlns=\"http://www.w3.org/2000/svg\" height=\"24px\"viewBox=\"0 0 24 24\"\n",
              "     width=\"24px\">\n",
              "    <g>\n",
              "        <path d=\"M19 3H5c-1.1 0-2 .9-2 2v14c0 1.1.9 2 2 2h14c1.1 0 2-.9 2-2V5c0-1.1-.9-2-2-2zM9 17H7v-7h2v7zm4 0h-2V7h2v10zm4 0h-2v-4h2v4z\"/>\n",
              "    </g>\n",
              "</svg>\n",
              "      </button>\n",
              "\n",
              "<style>\n",
              "  .colab-df-quickchart {\n",
              "      --bg-color: #E8F0FE;\n",
              "      --fill-color: #1967D2;\n",
              "      --hover-bg-color: #E2EBFA;\n",
              "      --hover-fill-color: #174EA6;\n",
              "      --disabled-fill-color: #AAA;\n",
              "      --disabled-bg-color: #DDD;\n",
              "  }\n",
              "\n",
              "  [theme=dark] .colab-df-quickchart {\n",
              "      --bg-color: #3B4455;\n",
              "      --fill-color: #D2E3FC;\n",
              "      --hover-bg-color: #434B5C;\n",
              "      --hover-fill-color: #FFFFFF;\n",
              "      --disabled-bg-color: #3B4455;\n",
              "      --disabled-fill-color: #666;\n",
              "  }\n",
              "\n",
              "  .colab-df-quickchart {\n",
              "    background-color: var(--bg-color);\n",
              "    border: none;\n",
              "    border-radius: 50%;\n",
              "    cursor: pointer;\n",
              "    display: none;\n",
              "    fill: var(--fill-color);\n",
              "    height: 32px;\n",
              "    padding: 0;\n",
              "    width: 32px;\n",
              "  }\n",
              "\n",
              "  .colab-df-quickchart:hover {\n",
              "    background-color: var(--hover-bg-color);\n",
              "    box-shadow: 0 1px 2px rgba(60, 64, 67, 0.3), 0 1px 3px 1px rgba(60, 64, 67, 0.15);\n",
              "    fill: var(--button-hover-fill-color);\n",
              "  }\n",
              "\n",
              "  .colab-df-quickchart-complete:disabled,\n",
              "  .colab-df-quickchart-complete:disabled:hover {\n",
              "    background-color: var(--disabled-bg-color);\n",
              "    fill: var(--disabled-fill-color);\n",
              "    box-shadow: none;\n",
              "  }\n",
              "\n",
              "  .colab-df-spinner {\n",
              "    border: 2px solid var(--fill-color);\n",
              "    border-color: transparent;\n",
              "    border-bottom-color: var(--fill-color);\n",
              "    animation:\n",
              "      spin 1s steps(1) infinite;\n",
              "  }\n",
              "\n",
              "  @keyframes spin {\n",
              "    0% {\n",
              "      border-color: transparent;\n",
              "      border-bottom-color: var(--fill-color);\n",
              "      border-left-color: var(--fill-color);\n",
              "    }\n",
              "    20% {\n",
              "      border-color: transparent;\n",
              "      border-left-color: var(--fill-color);\n",
              "      border-top-color: var(--fill-color);\n",
              "    }\n",
              "    30% {\n",
              "      border-color: transparent;\n",
              "      border-left-color: var(--fill-color);\n",
              "      border-top-color: var(--fill-color);\n",
              "      border-right-color: var(--fill-color);\n",
              "    }\n",
              "    40% {\n",
              "      border-color: transparent;\n",
              "      border-right-color: var(--fill-color);\n",
              "      border-top-color: var(--fill-color);\n",
              "    }\n",
              "    60% {\n",
              "      border-color: transparent;\n",
              "      border-right-color: var(--fill-color);\n",
              "    }\n",
              "    80% {\n",
              "      border-color: transparent;\n",
              "      border-right-color: var(--fill-color);\n",
              "      border-bottom-color: var(--fill-color);\n",
              "    }\n",
              "    90% {\n",
              "      border-color: transparent;\n",
              "      border-bottom-color: var(--fill-color);\n",
              "    }\n",
              "  }\n",
              "</style>\n",
              "\n",
              "      <script>\n",
              "        async function quickchart(key) {\n",
              "          const quickchartButtonEl =\n",
              "            document.querySelector('#' + key + ' button');\n",
              "          quickchartButtonEl.disabled = true;  // To prevent multiple clicks.\n",
              "          quickchartButtonEl.classList.add('colab-df-spinner');\n",
              "          try {\n",
              "            const charts = await google.colab.kernel.invokeFunction(\n",
              "                'suggestCharts', [key], {});\n",
              "          } catch (error) {\n",
              "            console.error('Error during call to suggestCharts:', error);\n",
              "          }\n",
              "          quickchartButtonEl.classList.remove('colab-df-spinner');\n",
              "          quickchartButtonEl.classList.add('colab-df-quickchart-complete');\n",
              "        }\n",
              "        (() => {\n",
              "          let quickchartButtonEl =\n",
              "            document.querySelector('#df-a34bbd75-ebb7-487f-af6f-2558f639006a button');\n",
              "          quickchartButtonEl.style.display =\n",
              "            google.colab.kernel.accessAllowed ? 'block' : 'none';\n",
              "        })();\n",
              "      </script>\n",
              "    </div>\n",
              "\n",
              "    </div>\n",
              "  </div>\n"
            ],
            "application/vnd.google.colaboratory.intrinsic+json": {
              "type": "dataframe",
              "variable_name": "df",
              "summary": "{\n  \"name\": \"df\",\n  \"rows\": 43049,\n  \"fields\": [\n    {\n      \"column\": \"Store\",\n      \"properties\": {\n        \"dtype\": \"number\",\n        \"std\": 4,\n        \"min\": 1,\n        \"max\": 11,\n        \"num_unique_values\": 3,\n        \"samples\": [\n          1,\n          10,\n          11\n        ],\n        \"semantic_type\": \"\",\n        \"description\": \"\"\n      }\n    },\n    {\n      \"column\": \"Brand\",\n      \"properties\": {\n        \"dtype\": \"number\",\n        \"std\": 12110,\n        \"min\": 58,\n        \"max\": 47090,\n        \"num_unique_values\": 3671,\n        \"samples\": [\n          13451,\n          16190,\n          15393\n        ],\n        \"semantic_type\": \"\",\n        \"description\": \"\"\n      }\n    },\n    {\n      \"column\": \"Size\",\n      \"properties\": {\n        \"dtype\": \"category\",\n        \"num_unique_values\": 35,\n        \"samples\": [\n          \"4L\",\n          \"3L\",\n          \"3/100mL\"\n        ],\n        \"semantic_type\": \"\",\n        \"description\": \"\"\n      }\n    },\n    {\n      \"column\": \"SalesQuantity\",\n      \"properties\": {\n        \"dtype\": \"number\",\n        \"std\": 3,\n        \"min\": 1,\n        \"max\": 143,\n        \"num_unique_values\": 59,\n        \"samples\": [\n          1,\n          6,\n          27\n        ],\n        \"semantic_type\": \"\",\n        \"description\": \"\"\n      }\n    },\n    {\n      \"column\": \"SalesDollars\",\n      \"properties\": {\n        \"dtype\": \"number\",\n        \"std\": 57.53906264359815,\n        \"min\": 0.99,\n        \"max\": 4499.4,\n        \"num_unique_values\": 1125,\n        \"samples\": [\n          175.89,\n          118.83,\n          159.68\n        ],\n        \"semantic_type\": \"\",\n        \"description\": \"\"\n      }\n    },\n    {\n      \"column\": \"SalesPrice\",\n      \"properties\": {\n        \"dtype\": \"number\",\n        \"std\": 12.616915298029056,\n        \"min\": 0.99,\n        \"max\": 349.99,\n        \"num_unique_values\": 159,\n        \"samples\": [\n          8.29,\n          77.99,\n          51.99\n        ],\n        \"semantic_type\": \"\",\n        \"description\": \"\"\n      }\n    },\n    {\n      \"column\": \"SalesDate\",\n      \"properties\": {\n        \"dtype\": \"date\",\n        \"min\": \"2016-01-01 00:00:00\",\n        \"max\": \"2016-01-31 00:00:00\",\n        \"num_unique_values\": 31,\n        \"samples\": [\n          \"2016-01-21 00:00:00\",\n          \"2016-01-07 00:00:00\",\n          \"2016-01-04 00:00:00\"\n        ],\n        \"semantic_type\": \"\",\n        \"description\": \"\"\n      }\n    },\n    {\n      \"column\": \"Volume\",\n      \"properties\": {\n        \"dtype\": \"number\",\n        \"std\": 656.533075795107,\n        \"min\": 50.0,\n        \"max\": 5000.0,\n        \"num_unique_values\": 18,\n        \"samples\": [\n          750.0,\n          375.0,\n          1750.0\n        ],\n        \"semantic_type\": \"\",\n        \"description\": \"\"\n      }\n    },\n    {\n      \"column\": \"Classification\",\n      \"properties\": {\n        \"dtype\": \"number\",\n        \"std\": 0.49298617249795534,\n        \"min\": 1.0,\n        \"max\": 2.0,\n        \"num_unique_values\": 2,\n        \"samples\": [\n          2.0,\n          1.0\n        ],\n        \"semantic_type\": \"\",\n        \"description\": \"\"\n      }\n    },\n    {\n      \"column\": \"ExciseTax\",\n      \"properties\": {\n        \"dtype\": \"number\",\n        \"std\": 3.0392515422778623,\n        \"min\": 0.01,\n        \"max\": 220.5,\n        \"num_unique_values\": 191,\n        \"samples\": [\n          51.19,\n          2.92\n        ],\n        \"semantic_type\": \"\",\n        \"description\": \"\"\n      }\n    }\n  ]\n}"
            }
          },
          "metadata": {},
          "execution_count": 12
        }
      ]
    },
    {
      "cell_type": "code",
      "source": [
        "def check_unique(df):\n",
        "    for col in df.columns:\n",
        "        print(col, df[col].unique())"
      ],
      "metadata": {
        "id": "o6SGPytxEmYo"
      },
      "execution_count": 13,
      "outputs": []
    },
    {
      "cell_type": "code",
      "source": [
        "check_unique(df)"
      ],
      "metadata": {
        "colab": {
          "base_uri": "https://localhost:8080/"
        },
        "id": "dILeK0pcFPgT",
        "outputId": "37351035-3c37-45b0-a8eb-ae00655a318f"
      },
      "execution_count": 14,
      "outputs": [
        {
          "output_type": "stream",
          "name": "stdout",
          "text": [
            "Store [ 1 10 11]\n",
            "Brand [ 1004  1005 10058 ... 37421 37785 37842]\n",
            "Size ['750mL' '375mL 2 Pk' '50mL 4 Pk' '750mL 3 Pk' '375mL 3 Pk' '750mL + 3/'\n",
            " '200mL 3 Pk' '1.5L' '5L' 'Liter' '50mL 3 Pk' '100mL 4 Pk' '1.75L' '3L'\n",
            " '375mL' '50mL' '100mL' '50mL 5 Pk' '187mL' '500mL' '187mL 4 Pk'\n",
            " '250mL 4 Pk' '750mL 2 Pk' '200mL' '3/100mL' '200mL 4 Pk' '4L' '5.0 Oz'\n",
            " '187mL 3 Pk' '750mL + 2/' '300mL' '720mL' '50mL 12 Pk' '330mL' '250mL']\n",
            "SalesQuantity [  1   2   4   3  12   6  10  36   7   5   8  14   9  15  20  13  32  17\n",
            "  11  18  16  21  72  24  31  26  83  25  23  28  29  22  19  57  27  35\n",
            "  89 120  33  30  42  53 143  49  38  34  86  85  50  65  41  43  48  39\n",
            "  40  67  60  37 102]\n",
            "SalesDollars [ 16.49  32.98  14.49 ... 359.97 989.94  10.  ]\n",
            "SalesPrice [ 16.49  14.49  34.99  14.99   3.99   8.99  49.99  18.99  26.99  24.99\n",
            "  13.99  15.99  27.99   6.99  29.99  16.99   9.99  44.99  10.99  39.99\n",
            "  21.99  12.99   6.29  11.99  17.99  99.99  31.99  22.99  42.99   7.95\n",
            "  19.99  11.95   9.95  46.99  74.99  20.99  58.99  62.99   4.99  35.99\n",
            "  11.49   8.49   7.49   7.99  10.49  94.99  50.99  69.99  32.99   0.99\n",
            "  45.99  25.99  30.99  59.99  57.99  28.99  23.99  38.99   3.49  61.99\n",
            "   1.29  13.95   9.49  41.99   2.99  56.99   5.99  37.99  60.99  16.95\n",
            "  12.49   8.95   2.49  18.49  54.99  73.99  79.99 109.99   8.29  72.99\n",
            "   4.29  67.99 127.99  64.99  89.99  43.99  36.99   4.79  76.99  40.99\n",
            "  16.98  11.98  52.99   1.99  47.99 114.99  84.99  68.99  70.99   2.29\n",
            "  33.99   7.89 219.99  55.99 124.99  15.49 104.99  65.99  66.99   6.79\n",
            "   5.79   8.79   6.49   1.49   2.79   5.29  48.99  19.79   3.29 133.99\n",
            "   9.29   1.79  25.79   5.49  13.49  25.49 199.99   3.79  51.99  14.95\n",
            "   4.49  21.49  10.95   7.79  20.49  53.99 145.99  23.49  24.95 154.99\n",
            "  19.49 139.99 115.99 349.99 189.99  24.49 299.99 259.99 119.99  71.99\n",
            " 159.99 149.99 134.99   7.98 165.99  77.99  39.95  42.95 164.99    nan]\n",
            "SalesDate <DatetimeArray>\n",
            "['2016-01-01 00:00:00', '2016-01-02 00:00:00', '2016-01-03 00:00:00',\n",
            " '2016-01-08 00:00:00', '2016-01-09 00:00:00', '2016-01-15 00:00:00',\n",
            " '2016-01-22 00:00:00', '2016-01-30 00:00:00', '2016-01-05 00:00:00',\n",
            " '2016-01-06 00:00:00', '2016-01-10 00:00:00', '2016-01-19 00:00:00',\n",
            " '2016-01-23 00:00:00', '2016-01-25 00:00:00', '2016-01-29 00:00:00',\n",
            " '2016-01-07 00:00:00', '2016-01-14 00:00:00', '2016-01-16 00:00:00',\n",
            " '2016-01-18 00:00:00', '2016-01-24 00:00:00', '2016-01-28 00:00:00',\n",
            " '2016-01-20 00:00:00', '2016-01-12 00:00:00', '2016-01-04 00:00:00',\n",
            " '2016-01-13 00:00:00', '2016-01-26 00:00:00', '2016-01-17 00:00:00',\n",
            " '2016-01-21 00:00:00', '2016-01-27 00:00:00', '2016-01-31 00:00:00',\n",
            " '2016-01-11 00:00:00',                 'NaT']\n",
            "Length: 32, dtype: datetime64[ns]\n",
            "Volume [ 750.  375.   50.  200. 1500. 5000. 1000.  100. 1750. 3000.  187.  500.\n",
            "  250.  300. 4000.  150.  720.  330.   nan]\n",
            "Classification [ 1.  2. nan]\n",
            "ExciseTax [7.9000e-01 1.5700e+00 3.9000e-01 4.5000e-01 1.1000e-01 3.4000e-01\n",
            " 2.2000e-01 5.0000e-02 9.4500e+00 6.8000e-01 1.1200e+00 2.8350e+01\n",
            " 4.2000e-01 2.1000e-01 1.3500e+00 1.5000e+00 7.5000e-01 2.1000e+00\n",
            " 1.0500e+00 5.6000e-01 9.0000e-01 2.0200e+00 1.6900e+00 1.0100e+00\n",
            " 1.0000e-01 3.1500e+00 3.6700e+00 1.8400e+00 5.5100e+00 7.3500e+00\n",
            " 1.1020e+01 2.2500e+00 4.7200e+00 1.1800e+00 3.9400e+00 2.3600e+00\n",
            " 1.0240e+01 9.1900e+00 1.6540e+01 1.4700e+01 1.2860e+01 2.3890e+01\n",
            " 1.6000e-01 2.6000e-01 3.6000e+00 1.8000e+00 7.4000e-01 5.2000e-01\n",
            " 9.4000e-01 3.2000e-01 1.4600e+00 6.0000e-02 1.9100e+00 1.2400e+00\n",
            " 4.7000e-01 2.0210e+01 1.9700e+00 6.0000e-01 1.5000e-01 3.0000e-01\n",
            " 3.0000e-02 8.0000e-02 3.7000e-01 2.2050e+01 6.3000e-01 5.8000e-01\n",
            " 8.9000e-01 1.1000e+00 5.6700e+01 2.7000e+00 3.4900e+00 2.4700e+00\n",
            " 3.8200e+00 1.8380e+01 2.7560e+01 2.9200e+00 7.0900e+00 8.6600e+00\n",
            " 4.3600e+00 3.0000e+00 2.8100e+00 8.4000e-01 5.4000e+00 4.5000e+00\n",
            " 2.5200e+01 4.2000e+00 6.3000e+00 1.2100e+00 2.5720e+01 4.0500e+00\n",
            " 1.4700e+00 1.5200e+00 1.1600e+00 1.0000e+00 1.3100e+00 7.8700e+00\n",
            " 1.4170e+01 1.8110e+01 1.5750e+01 1.3390e+01 1.1810e+01 2.6250e+01\n",
            " 1.2600e+00 2.9900e+00 1.4960e+01 2.9400e+01 2.7600e+00 3.5400e+00\n",
            " 5.2500e+00 3.6750e+01 3.0400e+00 1.8900e+00 1.6800e+00 6.0900e+00\n",
            " 1.3650e+01 8.4000e+00 1.2600e+01 4.6700e+00 4.2700e+00 1.0000e-02\n",
            " 3.7500e+00 3.7100e+00 2.5900e+00 2.0470e+01 2.1260e+01 1.9690e+01\n",
            " 2.5990e+01 1.3600e+00 2.2100e+00 1.6300e+00 2.7800e+00 1.2000e+00\n",
            " 7.5100e+00 4.2260e+01 5.1450e+01 1.0500e+01 4.4100e+01 1.8900e+01\n",
            " 2.1400e+00 1.9900e+00 1.7800e+00 1.7000e-01 3.3700e+00 4.0000e-02\n",
            " 9.0000e-02 7.6000e-01 1.5802e+02 3.1240e+01 4.3300e+00 4.4600e+00\n",
            " 1.4200e+00 2.6200e+00 5.1190e+01 2.3620e+01 5.1200e+00 6.6900e+00\n",
            " 2.1500e+00 2.2600e+00 3.0710e+01 3.4910e+01 7.1660e+01 4.9610e+01\n",
            " 5.6960e+01 5.3290e+01 1.3000e-01 7.2000e-01 3.2600e+00 1.1550e+01\n",
            " 2.9400e+00 2.5200e+00 4.4100e+00 3.3600e+00 2.3100e+00 1.9950e+01\n",
            " 3.2550e+01 3.1500e+01 2.3100e+01 1.6800e+01 2.7300e+00 2.0000e-02\n",
            " 1.4000e-01 1.7300e+00 1.2311e+02 2.0500e+00 3.6000e-01 6.7000e-01\n",
            " 2.2050e+02 6.7500e+00 4.1600e+00 2.0000e-01 1.8742e+02        nan]\n"
          ]
        }
      ]
    },
    {
      "cell_type": "code",
      "source": [
        "def check_null(df):\n",
        "  for col in df.columns:\n",
        "    nat_count = df[col].isna().sum()\n",
        "    print(nat_count)"
      ],
      "metadata": {
        "id": "oPgCdCCaKbE3"
      },
      "execution_count": 15,
      "outputs": []
    },
    {
      "cell_type": "code",
      "source": [
        "nat_count = df['SalesDate'].isna().sum()\n"
      ],
      "metadata": {
        "id": "LBI_jGdUFXj2"
      },
      "execution_count": 16,
      "outputs": []
    },
    {
      "cell_type": "code",
      "source": [
        "df = df.dropna(subset=['SalesDate'])"
      ],
      "metadata": {
        "id": "WTxdp6CDJis6"
      },
      "execution_count": 17,
      "outputs": []
    },
    {
      "cell_type": "code",
      "source": [
        "check_null(df)"
      ],
      "metadata": {
        "colab": {
          "base_uri": "https://localhost:8080/"
        },
        "id": "EwksaX8aJ2Bt",
        "outputId": "bf69c39a-b51f-4fbb-8d3d-d6b1d76fccb0"
      },
      "execution_count": 18,
      "outputs": [
        {
          "output_type": "stream",
          "name": "stdout",
          "text": [
            "0\n",
            "0\n",
            "0\n",
            "0\n",
            "0\n",
            "0\n",
            "0\n",
            "0\n",
            "0\n",
            "0\n"
          ]
        }
      ]
    },
    {
      "cell_type": "code",
      "source": [
        "df.info()"
      ],
      "metadata": {
        "colab": {
          "base_uri": "https://localhost:8080/"
        },
        "id": "Z4e7RY1hK4wZ",
        "outputId": "bd1051a8-eef5-4129-d69e-7535f5eee244"
      },
      "execution_count": 19,
      "outputs": [
        {
          "output_type": "stream",
          "name": "stdout",
          "text": [
            "<class 'pandas.core.frame.DataFrame'>\n",
            "Index: 43048 entries, 0 to 43047\n",
            "Data columns (total 10 columns):\n",
            " #   Column          Non-Null Count  Dtype         \n",
            "---  ------          --------------  -----         \n",
            " 0   Store           43048 non-null  int64         \n",
            " 1   Brand           43048 non-null  int64         \n",
            " 2   Size            43048 non-null  object        \n",
            " 3   SalesQuantity   43048 non-null  int64         \n",
            " 4   SalesDollars    43048 non-null  float64       \n",
            " 5   SalesPrice      43048 non-null  float64       \n",
            " 6   SalesDate       43048 non-null  datetime64[ns]\n",
            " 7   Volume          43048 non-null  float64       \n",
            " 8   Classification  43048 non-null  float64       \n",
            " 9   ExciseTax       43048 non-null  float64       \n",
            "dtypes: datetime64[ns](1), float64(5), int64(3), object(1)\n",
            "memory usage: 3.6+ MB\n"
          ]
        }
      ]
    },
    {
      "cell_type": "code",
      "source": [
        "import re\n",
        "\n",
        "def parse_size(size_str):\n",
        "    try:\n",
        "        size_str = size_str.strip()\n",
        "\n",
        "        # Handle L (liters)\n",
        "        match = re.match(r'([\\d.]+)\\s*L', size_str, re.I)\n",
        "        if match:\n",
        "            return float(match.group(1)) * 1000\n",
        "\n",
        "        # Handle mL (single unit or pack)\n",
        "        match = re.match(r'([\\d.]+)mL(?:\\s*(\\d+)\\s*Pk)?', size_str, re.I)\n",
        "        if match:\n",
        "            vol = float(match.group(1))\n",
        "            pack = int(match.group(2)) if match.group(2) else 1\n",
        "            return vol  # per unit, keep per-unit volume\n",
        "\n",
        "        # Handle Oz (convert to mL: 1 Oz ≈ 29.5735 mL)\n",
        "        match = re.match(r'([\\d.]+)\\s*Oz', size_str, re.I)\n",
        "        if match:\n",
        "            return float(match.group(1)) * 29.5735\n",
        "\n",
        "        return None  # Unrecognized format\n",
        "    except:\n",
        "        return None\n",
        "\n",
        "# Apply to your DataFrame\n",
        "df['Volume_mL_per_unit'] = df['Size'].apply(parse_size)\n"
      ],
      "metadata": {
        "id": "1fd4SQG-LHxd"
      },
      "execution_count": 20,
      "outputs": []
    },
    {
      "cell_type": "code",
      "source": [
        "df['Volume_mL_per_unit'].unique()"
      ],
      "metadata": {
        "colab": {
          "base_uri": "https://localhost:8080/"
        },
        "id": "8ZLyBfkJL62s",
        "outputId": "d853db03-cd13-4c18-f1c6-0517c1ba8c6b"
      },
      "execution_count": 21,
      "outputs": [
        {
          "output_type": "execute_result",
          "data": {
            "text/plain": [
              "array([ 750.    ,  375.    ,   50.    ,  200.    , 1500.    , 5000.    ,\n",
              "             nan,  100.    , 1750.    , 3000.    ,  187.    ,  500.    ,\n",
              "        250.    , 4000.    ,  147.8675,  300.    ,  720.    ,  330.    ])"
            ]
          },
          "metadata": {},
          "execution_count": 21
        }
      ]
    },
    {
      "cell_type": "code",
      "source": [
        "df['Volume_mL_per_unit'].isnull().sum()"
      ],
      "metadata": {
        "colab": {
          "base_uri": "https://localhost:8080/"
        },
        "id": "XXjsHLWZMaVn",
        "outputId": "40c48604-7c37-4530-c553-ea124b7e7ed5"
      },
      "execution_count": 22,
      "outputs": [
        {
          "output_type": "execute_result",
          "data": {
            "text/plain": [
              "np.int64(1009)"
            ]
          },
          "metadata": {},
          "execution_count": 22
        }
      ]
    },
    {
      "cell_type": "code",
      "source": [
        "check_null(df)"
      ],
      "metadata": {
        "colab": {
          "base_uri": "https://localhost:8080/"
        },
        "id": "HYgSyAyyDm2U",
        "outputId": "ecd31eee-4418-40f5-87b0-125b0d65cc62"
      },
      "execution_count": 23,
      "outputs": [
        {
          "output_type": "stream",
          "name": "stdout",
          "text": [
            "0\n",
            "0\n",
            "0\n",
            "0\n",
            "0\n",
            "0\n",
            "0\n",
            "0\n",
            "0\n",
            "0\n",
            "1009\n"
          ]
        }
      ]
    },
    {
      "cell_type": "code",
      "source": [
        "df['Volume_mL_per_unit'].mode()"
      ],
      "metadata": {
        "colab": {
          "base_uri": "https://localhost:8080/",
          "height": 115
        },
        "id": "NEVv_2gYGR0-",
        "outputId": "8ffb630d-fdd4-42db-ac47-b4ba2074e1d0"
      },
      "execution_count": 24,
      "outputs": [
        {
          "output_type": "execute_result",
          "data": {
            "text/plain": [
              "0    750.0\n",
              "Name: Volume_mL_per_unit, dtype: float64"
            ],
            "text/html": [
              "<div>\n",
              "<style scoped>\n",
              "    .dataframe tbody tr th:only-of-type {\n",
              "        vertical-align: middle;\n",
              "    }\n",
              "\n",
              "    .dataframe tbody tr th {\n",
              "        vertical-align: top;\n",
              "    }\n",
              "\n",
              "    .dataframe thead th {\n",
              "        text-align: right;\n",
              "    }\n",
              "</style>\n",
              "<table border=\"1\" class=\"dataframe\">\n",
              "  <thead>\n",
              "    <tr style=\"text-align: right;\">\n",
              "      <th></th>\n",
              "      <th>Volume_mL_per_unit</th>\n",
              "    </tr>\n",
              "  </thead>\n",
              "  <tbody>\n",
              "    <tr>\n",
              "      <th>0</th>\n",
              "      <td>750.0</td>\n",
              "    </tr>\n",
              "  </tbody>\n",
              "</table>\n",
              "</div><br><label><b>dtype:</b> float64</label>"
            ]
          },
          "metadata": {},
          "execution_count": 24
        }
      ]
    },
    {
      "cell_type": "code",
      "source": [
        "df['Volume_mL_per_unit'].unique()"
      ],
      "metadata": {
        "colab": {
          "base_uri": "https://localhost:8080/"
        },
        "id": "Da0DYF-DG5OJ",
        "outputId": "319d715b-08fb-44aa-c002-cdd110b45107"
      },
      "execution_count": 25,
      "outputs": [
        {
          "output_type": "execute_result",
          "data": {
            "text/plain": [
              "array([ 750.    ,  375.    ,   50.    ,  200.    , 1500.    , 5000.    ,\n",
              "             nan,  100.    , 1750.    , 3000.    ,  187.    ,  500.    ,\n",
              "        250.    , 4000.    ,  147.8675,  300.    ,  720.    ,  330.    ])"
            ]
          },
          "metadata": {},
          "execution_count": 25
        }
      ]
    },
    {
      "cell_type": "code",
      "source": [
        "df['Volume_mL_per_unit'] = df['Volume_mL_per_unit'].fillna(df['Volume_mL_per_unit'].mode()[0])\n"
      ],
      "metadata": {
        "id": "E03vYe-XHs9b"
      },
      "execution_count": 26,
      "outputs": []
    },
    {
      "cell_type": "markdown",
      "source": [
        "#Extracting the Time"
      ],
      "metadata": {
        "id": "xJslRWxULpPx"
      }
    },
    {
      "cell_type": "code",
      "source": [
        "df['Year'] = df['SalesDate'].dt.year\n",
        "df['Month'] = df['SalesDate'].dt.month\n",
        "df['Day'] = df['SalesDate'].dt.day\n",
        "df['Weekday'] = df['SalesDate'].dt.weekday"
      ],
      "metadata": {
        "id": "4rVaN2xVLbDD"
      },
      "execution_count": 28,
      "outputs": []
    },
    {
      "cell_type": "markdown",
      "source": [
        "#Total sales"
      ],
      "metadata": {
        "id": "IUAQ3VQCMD5N"
      }
    },
    {
      "cell_type": "code",
      "source": [
        "df['TotalSales'] = df['SalesQuantity'] * df['SalesPrice']\n"
      ],
      "metadata": {
        "id": "K-o3uKZSLogG"
      },
      "execution_count": 29,
      "outputs": []
    },
    {
      "cell_type": "markdown",
      "source": [
        "#Total Volume Sold"
      ],
      "metadata": {
        "id": "32pg-1liMI_P"
      }
    },
    {
      "cell_type": "code",
      "source": [
        "df['TotalVolumeSold'] = df['SalesQuantity'] * df['Volume_mL_per_unit']"
      ],
      "metadata": {
        "id": "nqmKqN8AMHjS"
      },
      "execution_count": 30,
      "outputs": []
    },
    {
      "cell_type": "markdown",
      "source": [
        "#Features which are related to the SalesPrice"
      ],
      "metadata": {
        "id": "C_aREkphMpKD"
      }
    },
    {
      "cell_type": "code",
      "source": [
        "# Select numerical columns for heatmap\n",
        "corr_df = df[['SalesQuantity', 'SalesPrice', 'TotalSales', 'Volume_mL_per_unit',\n",
        "              'TotalVolumeSold', 'ExciseTax', 'Year', 'Month', 'Day', 'Weekday']]\n",
        "\n",
        "# Compute correlation matrix\n",
        "corr_matrix = corr_df.corr()\n",
        "\n",
        "# Plot heatmap\n",
        "plt.figure(figsize=(12, 8))\n",
        "sns.heatmap(corr_matrix, annot=True, cmap='coolwarm', fmt=\".2f\")\n",
        "plt.title('Feature Correlation Heatmap')\n",
        "plt.show()\n"
      ],
      "metadata": {
        "colab": {
          "base_uri": "https://localhost:8080/",
          "height": 828
        },
        "id": "R9a70r08MRWh",
        "outputId": "6927385e-bcc1-49f2-b9de-dba4e931e2a8"
      },
      "execution_count": 31,
      "outputs": [
        {
          "output_type": "display_data",
          "data": {
            "text/plain": [
              "<Figure size 1200x800 with 2 Axes>"
            ],
            "image/png": "[encoded data removed]"
          },
          "metadata": {}
        }
      ]
    },
    {
      "cell_type": "markdown",
      "source": [
        "#1st Question"
      ],
      "metadata": {
        "id": "qztv1nB_fqwH"
      }
    },
    {
      "cell_type": "markdown",
      "source": [
        "#Demand Forecasting\n",
        "#Analyze historical sales data to predict future demand.\n",
        "#Use time-series models for accuracy."
      ],
      "metadata": {
        "id": "K89qQgLIftYw"
      }
    },
    {
      "cell_type": "markdown",
      "source": [
        "#Prediction of Totalsales"
      ],
      "metadata": {
        "id": "TBMCmnB5Ph5M"
      }
    },
    {
      "cell_type": "code",
      "source": [
        "from statsmodels.tsa.statespace.sarimax import SARIMAX\n",
        "import matplotlib.pyplot as plt\n",
        "\n",
        "# Step 1: Aggregate sales by date\n",
        "sales_data = df.groupby('SalesDate')['TotalSales'].sum().asfreq('D')  # daily frequency\n",
        "\n",
        "# Step 2: Train-test split\n",
        "train = sales_data[:-30]\n",
        "test = sales_data[-30:]\n",
        "\n",
        "# Step 3: Fit SARIMA model\n",
        "model = SARIMAX(train, order=(1,1,1), seasonal_order=(1,1,1,7))\n",
        "results = model.fit(disp=False)\n",
        "\n",
        "# Step 4: Forecast\n",
        "forecast = results.forecast(steps=30)\n",
        "\n",
        "# Step 5: Plot forecast vs actual\n",
        "plt.figure(figsize=(12,6))\n",
        "plt.plot(train, label='Train')\n",
        "plt.plot(test, label='Actual')\n",
        "plt.plot(forecast, label='Forecast', linestyle='--')\n",
        "plt.title('SARIMA Forecast of TotalSales')\n",
        "plt.legend()\n",
        "plt.show()\n"
      ],
      "metadata": {
        "colab": {
          "base_uri": "https://localhost:8080/",
          "height": 638
        },
        "id": "2ljvjIFbNKyn",
        "outputId": "d39008c4-77c1-45ed-e3bc-1f1c68e79524"
      },
      "execution_count": 37,
      "outputs": [
        {
          "output_type": "stream",
          "name": "stderr",
          "text": [
            "/usr/local/lib/python3.11/dist-packages/statsmodels/tsa/statespace/sarimax.py:866: UserWarning: Too few observations to estimate starting parameters for ARMA and trend. All parameters except for variances will be set to zeros.\n",
            "  warn('Too few observations to estimate starting parameters%s.'\n",
            "/usr/local/lib/python3.11/dist-packages/statsmodels/tsa/statespace/sarimax.py:866: UserWarning: Too few observations to estimate starting parameters for seasonal ARMA. All parameters except for variances will be set to zeros.\n",
            "  warn('Too few observations to estimate starting parameters%s.'\n"
          ]
        },
        {
          "output_type": "display_data",
          "data": {
            "text/plain": [
              "<Figure size 1200x600 with 1 Axes>"
            ],
            "image/png": "[encoded data removed]"
          },
          "metadata": {}
        }
      ]
    },
    {
      "cell_type": "markdown",
      "source": [
        "#Calculating the Accuracy"
      ],
      "metadata": {
        "id": "7WRRIaGLP2tT"
      }
    },
    {
      "cell_type": "code",
      "source": [
        "from sklearn.metrics import mean_absolute_error, mean_squared_error\n",
        "import numpy as np\n",
        "\n",
        "# Assuming `test` is the actual and `forecast` is the predicted\n",
        "mae = mean_absolute_error(test, forecast)\n",
        "mse = mean_squared_error(test, forecast)\n",
        "rmse = np.sqrt(mse)\n",
        "mape = np.mean(np.abs((test - forecast) / test)) * 100\n",
        "\n",
        "print(f\"MAE: {mae:.2f}\")\n",
        "print(f\"MSE: {mse:.2f}\")\n",
        "print(f\"RMSE: {rmse:.2f}\")\n",
        "print(f\"MAPE: {mape:.2f}%\")\n"
      ],
      "metadata": {
        "colab": {
          "base_uri": "https://localhost:8080/"
        },
        "id": "NBbCQzrsOzLo",
        "outputId": "d6d4204d-9299-4a65-8c46-493298fe9c31"
      },
      "execution_count": 38,
      "outputs": [
        {
          "output_type": "stream",
          "name": "stdout",
          "text": [
            "MAE: 17079.00\n",
            "MSE: 413147413.55\n",
            "RMSE: 20326.03\n",
            "MAPE: 39.84%\n"
          ]
        }
      ]
    },
    {
      "cell_type": "code",
      "source": [
        "df.head()"
      ],
      "metadata": {
        "colab": {
          "base_uri": "https://localhost:8080/",
          "height": 313
        },
        "id": "2YdGPcuIZbdt",
        "outputId": "e9a300a6-a880-4d50-856f-24560c793075"
      },
      "execution_count": 40,
      "outputs": [
        {
          "output_type": "execute_result",
          "data": {
            "text/plain": [
              "   Store  Brand        Size  SalesQuantity  SalesDollars  SalesPrice  \\\n",
              "0      1   1004       750mL              1         16.49       16.49   \n",
              "1      1   1004       750mL              2         32.98       16.49   \n",
              "2      1   1004       750mL              1         16.49       16.49   \n",
              "3      1   1004       750mL              1         14.49       14.49   \n",
              "4      1   1005  375mL 2 Pk              2         69.98       34.99   \n",
              "\n",
              "   SalesDate  Volume  Classification  ExciseTax  Volume_mL_per_unit  Year  \\\n",
              "0 2016-01-01   750.0             1.0       0.79               750.0  2016   \n",
              "1 2016-01-02   750.0             1.0       1.57               750.0  2016   \n",
              "2 2016-01-03   750.0             1.0       0.79               750.0  2016   \n",
              "3 2016-01-08   750.0             1.0       0.79               750.0  2016   \n",
              "4 2016-01-09   375.0             1.0       0.79               375.0  2016   \n",
              "\n",
              "   Month  Day  Weekday  TotalSales  TotalVolumeSold  \n",
              "0      1    1        4       16.49            750.0  \n",
              "1      1    2        5       32.98           1500.0  \n",
              "2      1    3        6       16.49            750.0  \n",
              "3      1    8        4       14.49            750.0  \n",
              "4      1    9        5       69.98            750.0  "
            ],
            "text/html": [
              "\n",
              "  <div id=\"df-c493051f-68c5-4815-b890-1aad874920f3\" class=\"colab-df-container\">\n",
              "    <div>\n",
              "<style scoped>\n",
              "    .dataframe tbody tr th:only-of-type {\n",
              "        vertical-align: middle;\n",
              "    }\n",
              "\n",
              "    .dataframe tbody tr th {\n",
              "        vertical-align: top;\n",
              "    }\n",
              "\n",
              "    .dataframe thead th {\n",
              "        text-align: right;\n",
              "    }\n",
              "</style>\n",
              "<table border=\"1\" class=\"dataframe\">\n",
              "  <thead>\n",
              "    <tr style=\"text-align: right;\">\n",
              "      <th></th>\n",
              "      <th>Store</th>\n",
              "      <th>Brand</th>\n",
              "      <th>Size</th>\n",
              "      <th>SalesQuantity</th>\n",
              "      <th>SalesDollars</th>\n",
              "      <th>SalesPrice</th>\n",
              "      <th>SalesDate</th>\n",
              "      <th>Volume</th>\n",
              "      <th>Classification</th>\n",
              "      <th>ExciseTax</th>\n",
              "      <th>Volume_mL_per_unit</th>\n",
              "      <th>Year</th>\n",
              "      <th>Month</th>\n",
              "      <th>Day</th>\n",
              "      <th>Weekday</th>\n",
              "      <th>TotalSales</th>\n",
              "      <th>TotalVolumeSold</th>\n",
              "    </tr>\n",
              "  </thead>\n",
              "  <tbody>\n",
              "    <tr>\n",
              "      <th>0</th>\n",
              "      <td>1</td>\n",
              "      <td>1004</td>\n",
              "      <td>750mL</td>\n",
              "      <td>1</td>\n",
              "      <td>16.49</td>\n",
              "      <td>16.49</td>\n",
              "      <td>2016-01-01</td>\n",
              "      <td>750.0</td>\n",
              "      <td>1.0</td>\n",
              "      <td>0.79</td>\n",
              "      <td>750.0</td>\n",
              "      <td>2016</td>\n",
              "      <td>1</td>\n",
              "      <td>1</td>\n",
              "      <td>4</td>\n",
              "      <td>16.49</td>\n",
              "      <td>750.0</td>\n",
              "    </tr>\n",
              "    <tr>\n",
              "      <th>1</th>\n",
              "      <td>1</td>\n",
              "      <td>1004</td>\n",
              "      <td>750mL</td>\n",
              "      <td>2</td>\n",
              "      <td>32.98</td>\n",
              "      <td>16.49</td>\n",
              "      <td>2016-01-02</td>\n",
              "      <td>750.0</td>\n",
              "      <td>1.0</td>\n",
              "      <td>1.57</td>\n",
              "      <td>750.0</td>\n",
              "      <td>2016</td>\n",
              "      <td>1</td>\n",
              "      <td>2</td>\n",
              "      <td>5</td>\n",
              "      <td>32.98</td>\n",
              "      <td>1500.0</td>\n",
              "    </tr>\n",
              "    <tr>\n",
              "      <th>2</th>\n",
              "      <td>1</td>\n",
              "      <td>1004</td>\n",
              "      <td>750mL</td>\n",
              "      <td>1</td>\n",
              "      <td>16.49</td>\n",
              "      <td>16.49</td>\n",
              "      <td>2016-01-03</td>\n",
              "      <td>750.0</td>\n",
              "      <td>1.0</td>\n",
              "      <td>0.79</td>\n",
              "      <td>750.0</td>\n",
              "      <td>2016</td>\n",
              "      <td>1</td>\n",
              "      <td>3</td>\n",
              "      <td>6</td>\n",
              "      <td>16.49</td>\n",
              "      <td>750.0</td>\n",
              "    </tr>\n",
              "    <tr>\n",
              "      <th>3</th>\n",
              "      <td>1</td>\n",
              "      <td>1004</td>\n",
              "      <td>750mL</td>\n",
              "      <td>1</td>\n",
              "      <td>14.49</td>\n",
              "      <td>14.49</td>\n",
              "      <td>2016-01-08</td>\n",
              "      <td>750.0</td>\n",
              "      <td>1.0</td>\n",
              "      <td>0.79</td>\n",
              "      <td>750.0</td>\n",
              "      <td>2016</td>\n",
              "      <td>1</td>\n",
              "      <td>8</td>\n",
              "      <td>4</td>\n",
              "      <td>14.49</td>\n",
              "      <td>750.0</td>\n",
              "    </tr>\n",
              "    <tr>\n",
              "      <th>4</th>\n",
              "      <td>1</td>\n",
              "      <td>1005</td>\n",
              "      <td>375mL 2 Pk</td>\n",
              "      <td>2</td>\n",
              "      <td>69.98</td>\n",
              "      <td>34.99</td>\n",
              "      <td>2016-01-09</td>\n",
              "      <td>375.0</td>\n",
              "      <td>1.0</td>\n",
              "      <td>0.79</td>\n",
              "      <td>375.0</td>\n",
              "      <td>2016</td>\n",
              "      <td>1</td>\n",
              "      <td>9</td>\n",
              "      <td>5</td>\n",
              "      <td>69.98</td>\n",
              "      <td>750.0</td>\n",
              "    </tr>\n",
              "  </tbody>\n",
              "</table>\n",
              "</div>\n",
              "    <div class=\"colab-df-buttons\">\n",
              "\n",
              "  <div class=\"colab-df-container\">\n",
              "    <button class=\"colab-df-convert\" onclick=\"convertToInteractive('df-c493051f-68c5-4815-b890-1aad874920f3')\"\n",
              "            title=\"Convert this dataframe to an interactive table.\"\n",
              "            style=\"display:none;\">\n",
              "\n",
              "  <svg xmlns=\"http://www.w3.org/2000/svg\" height=\"24px\" viewBox=\"0 -960 960 960\">\n",
              "    <path d=\"M120-120v-720h720v720H120Zm60-500h600v-160H180v160Zm220 220h160v-160H400v160Zm0 220h160v-160H400v160ZM180-400h160v-160H180v160Zm440 0h160v-160H620v160ZM180-180h160v-160H180v160Zm440 0h160v-160H620v160Z\"/>\n",
              "  </svg>\n",
              "    </button>\n",
              "\n",
              "  <style>\n",
              "    .colab-df-container {\n",
              "      display:flex;\n",
              "      gap: 12px;\n",
              "    }\n",
              "\n",
              "    .colab-df-convert {\n",
              "      background-color: #E8F0FE;\n",
              "      border: none;\n",
              "      border-radius: 50%;\n",
              "      cursor: pointer;\n",
              "      display: none;\n",
              "      fill: #1967D2;\n",
              "      height: 32px;\n",
              "      padding: 0 0 0 0;\n",
              "      width: 32px;\n",
              "    }\n",
              "\n",
              "    .colab-df-convert:hover {\n",
              "      background-color: #E2EBFA;\n",
              "      box-shadow: 0px 1px 2px rgba(60, 64, 67, 0.3), 0px 1px 3px 1px rgba(60, 64, 67, 0.15);\n",
              "      fill: #174EA6;\n",
              "    }\n",
              "\n",
              "    .colab-df-buttons div {\n",
              "      margin-bottom: 4px;\n",
              "    }\n",
              "\n",
              "    [theme=dark] .colab-df-convert {\n",
              "      background-color: #3B4455;\n",
              "      fill: #D2E3FC;\n",
              "    }\n",
              "\n",
              "    [theme=dark] .colab-df-convert:hover {\n",
              "      background-color: #434B5C;\n",
              "      box-shadow: 0px 1px 3px 1px rgba(0, 0, 0, 0.15);\n",
              "      filter: drop-shadow(0px 1px 2px rgba(0, 0, 0, 0.3));\n",
              "      fill: #FFFFFF;\n",
              "    }\n",
              "  </style>\n",
              "\n",
              "    <script>\n",
              "      const buttonEl =\n",
              "        document.querySelector('#df-c493051f-68c5-4815-b890-1aad874920f3 button.colab-df-convert');\n",
              "      buttonEl.style.display =\n",
              "        google.colab.kernel.accessAllowed ? 'block' : 'none';\n",
              "\n",
              "      async function convertToInteractive(key) {\n",
              "        const element = document.querySelector('#df-c493051f-68c5-4815-b890-1aad874920f3');\n",
              "        const dataTable =\n",
              "          await google.colab.kernel.invokeFunction('convertToInteractive',\n",
              "                                                    [key], {});\n",
              "        if (!dataTable) return;\n",
              "\n",
              "        const docLinkHtml = 'Like what you see? Visit the ' +\n",
              "          '<a target=\"_blank\" href=https://colab.research.google.com/notebooks/data_table.ipynb>data table notebook</a>'\n",
              "          + ' to learn more about interactive tables.';\n",
              "        element.innerHTML = '';\n",
              "        dataTable['output_type'] = 'display_data';\n",
              "        await google.colab.output.renderOutput(dataTable, element);\n",
              "        const docLink = document.createElement('div');\n",
              "        docLink.innerHTML = docLinkHtml;\n",
              "        element.appendChild(docLink);\n",
              "      }\n",
              "    </script>\n",
              "  </div>\n",
              "\n",
              "\n",
              "    <div id=\"df-1d1af0ec-1611-4135-8d39-937235ed8f7b\">\n",
              "      <button class=\"colab-df-quickchart\" onclick=\"quickchart('df-1d1af0ec-1611-4135-8d39-937235ed8f7b')\"\n",
              "                title=\"Suggest charts\"\n",
              "                style=\"display:none;\">\n",
              "\n",
              "<svg xmlns=\"http://www.w3.org/2000/svg\" height=\"24px\"viewBox=\"0 0 24 24\"\n",
              "     width=\"24px\">\n",
              "    <g>\n",
              "        <path d=\"M19 3H5c-1.1 0-2 .9-2 2v14c0 1.1.9 2 2 2h14c1.1 0 2-.9 2-2V5c0-1.1-.9-2-2-2zM9 17H7v-7h2v7zm4 0h-2V7h2v10zm4 0h-2v-4h2v4z\"/>\n",
              "    </g>\n",
              "</svg>\n",
              "      </button>\n",
              "\n",
              "<style>\n",
              "  .colab-df-quickchart {\n",
              "      --bg-color: #E8F0FE;\n",
              "      --fill-color: #1967D2;\n",
              "      --hover-bg-color: #E2EBFA;\n",
              "      --hover-fill-color: #174EA6;\n",
              "      --disabled-fill-color: #AAA;\n",
              "      --disabled-bg-color: #DDD;\n",
              "  }\n",
              "\n",
              "  [theme=dark] .colab-df-quickchart {\n",
              "      --bg-color: #3B4455;\n",
              "      --fill-color: #D2E3FC;\n",
              "      --hover-bg-color: #434B5C;\n",
              "      --hover-fill-color: #FFFFFF;\n",
              "      --disabled-bg-color: #3B4455;\n",
              "      --disabled-fill-color: #666;\n",
              "  }\n",
              "\n",
              "  .colab-df-quickchart {\n",
              "    background-color: var(--bg-color);\n",
              "    border: none;\n",
              "    border-radius: 50%;\n",
              "    cursor: pointer;\n",
              "    display: none;\n",
              "    fill: var(--fill-color);\n",
              "    height: 32px;\n",
              "    padding: 0;\n",
              "    width: 32px;\n",
              "  }\n",
              "\n",
              "  .colab-df-quickchart:hover {\n",
              "    background-color: var(--hover-bg-color);\n",
              "    box-shadow: 0 1px 2px rgba(60, 64, 67, 0.3), 0 1px 3px 1px rgba(60, 64, 67, 0.15);\n",
              "    fill: var(--button-hover-fill-color);\n",
              "  }\n",
              "\n",
              "  .colab-df-quickchart-complete:disabled,\n",
              "  .colab-df-quickchart-complete:disabled:hover {\n",
              "    background-color: var(--disabled-bg-color);\n",
              "    fill: var(--disabled-fill-color);\n",
              "    box-shadow: none;\n",
              "  }\n",
              "\n",
              "  .colab-df-spinner {\n",
              "    border: 2px solid var(--fill-color);\n",
              "    border-color: transparent;\n",
              "    border-bottom-color: var(--fill-color);\n",
              "    animation:\n",
              "      spin 1s steps(1) infinite;\n",
              "  }\n",
              "\n",
              "  @keyframes spin {\n",
              "    0% {\n",
              "      border-color: transparent;\n",
              "      border-bottom-color: var(--fill-color);\n",
              "      border-left-color: var(--fill-color);\n",
              "    }\n",
              "    20% {\n",
              "      border-color: transparent;\n",
              "      border-left-color: var(--fill-color);\n",
              "      border-top-color: var(--fill-color);\n",
              "    }\n",
              "    30% {\n",
              "      border-color: transparent;\n",
              "      border-left-color: var(--fill-color);\n",
              "      border-top-color: var(--fill-color);\n",
              "      border-right-color: var(--fill-color);\n",
              "    }\n",
              "    40% {\n",
              "      border-color: transparent;\n",
              "      border-right-color: var(--fill-color);\n",
              "      border-top-color: var(--fill-color);\n",
              "    }\n",
              "    60% {\n",
              "      border-color: transparent;\n",
              "      border-right-color: var(--fill-color);\n",
              "    }\n",
              "    80% {\n",
              "      border-color: transparent;\n",
              "      border-right-color: var(--fill-color);\n",
              "      border-bottom-color: var(--fill-color);\n",
              "    }\n",
              "    90% {\n",
              "      border-color: transparent;\n",
              "      border-bottom-color: var(--fill-color);\n",
              "    }\n",
              "  }\n",
              "</style>\n",
              "\n",
              "      <script>\n",
              "        async function quickchart(key) {\n",
              "          const quickchartButtonEl =\n",
              "            document.querySelector('#' + key + ' button');\n",
              "          quickchartButtonEl.disabled = true;  // To prevent multiple clicks.\n",
              "          quickchartButtonEl.classList.add('colab-df-spinner');\n",
              "          try {\n",
              "            const charts = await google.colab.kernel.invokeFunction(\n",
              "                'suggestCharts', [key], {});\n",
              "          } catch (error) {\n",
              "            console.error('Error during call to suggestCharts:', error);\n",
              "          }\n",
              "          quickchartButtonEl.classList.remove('colab-df-spinner');\n",
              "          quickchartButtonEl.classList.add('colab-df-quickchart-complete');\n",
              "        }\n",
              "        (() => {\n",
              "          let quickchartButtonEl =\n",
              "            document.querySelector('#df-1d1af0ec-1611-4135-8d39-937235ed8f7b button');\n",
              "          quickchartButtonEl.style.display =\n",
              "            google.colab.kernel.accessAllowed ? 'block' : 'none';\n",
              "        })();\n",
              "      </script>\n",
              "    </div>\n",
              "\n",
              "    </div>\n",
              "  </div>\n"
            ],
            "application/vnd.google.colaboratory.intrinsic+json": {
              "type": "dataframe",
              "variable_name": "df",
              "summary": "{\n  \"name\": \"df\",\n  \"rows\": 43048,\n  \"fields\": [\n    {\n      \"column\": \"Store\",\n      \"properties\": {\n        \"dtype\": \"number\",\n        \"std\": 4,\n        \"min\": 1,\n        \"max\": 11,\n        \"num_unique_values\": 3,\n        \"samples\": [\n          1,\n          10,\n          11\n        ],\n        \"semantic_type\": \"\",\n        \"description\": \"\"\n      }\n    },\n    {\n      \"column\": \"Brand\",\n      \"properties\": {\n        \"dtype\": \"number\",\n        \"std\": 12110,\n        \"min\": 58,\n        \"max\": 47090,\n        \"num_unique_values\": 3671,\n        \"samples\": [\n          13451,\n          16190,\n          15393\n        ],\n        \"semantic_type\": \"\",\n        \"description\": \"\"\n      }\n    },\n    {\n      \"column\": \"Size\",\n      \"properties\": {\n        \"dtype\": \"category\",\n        \"num_unique_values\": 35,\n        \"samples\": [\n          \"4L\",\n          \"3L\",\n          \"3/100mL\"\n        ],\n        \"semantic_type\": \"\",\n        \"description\": \"\"\n      }\n    },\n    {\n      \"column\": \"SalesQuantity\",\n      \"properties\": {\n        \"dtype\": \"number\",\n        \"std\": 3,\n        \"min\": 1,\n        \"max\": 143,\n        \"num_unique_values\": 59,\n        \"samples\": [\n          1,\n          6,\n          27\n        ],\n        \"semantic_type\": \"\",\n        \"description\": \"\"\n      }\n    },\n    {\n      \"column\": \"SalesDollars\",\n      \"properties\": {\n        \"dtype\": \"number\",\n        \"std\": 57.53964038874345,\n        \"min\": 0.99,\n        \"max\": 4499.4,\n        \"num_unique_values\": 1124,\n        \"samples\": [\n          239.98,\n          32.45,\n          159.68\n        ],\n        \"semantic_type\": \"\",\n        \"description\": \"\"\n      }\n    },\n    {\n      \"column\": \"SalesPrice\",\n      \"properties\": {\n        \"dtype\": \"number\",\n        \"std\": 12.616915298029056,\n        \"min\": 0.99,\n        \"max\": 349.99,\n        \"num_unique_values\": 159,\n        \"samples\": [\n          8.29,\n          77.99,\n          51.99\n        ],\n        \"semantic_type\": \"\",\n        \"description\": \"\"\n      }\n    },\n    {\n      \"column\": \"SalesDate\",\n      \"properties\": {\n        \"dtype\": \"date\",\n        \"min\": \"2016-01-01 00:00:00\",\n        \"max\": \"2016-01-31 00:00:00\",\n        \"num_unique_values\": 31,\n        \"samples\": [\n          \"2016-01-21 00:00:00\",\n          \"2016-01-07 00:00:00\",\n          \"2016-01-04 00:00:00\"\n        ],\n        \"semantic_type\": \"\",\n        \"description\": \"\"\n      }\n    },\n    {\n      \"column\": \"Volume\",\n      \"properties\": {\n        \"dtype\": \"number\",\n        \"std\": 656.533075795107,\n        \"min\": 50.0,\n        \"max\": 5000.0,\n        \"num_unique_values\": 18,\n        \"samples\": [\n          750.0,\n          375.0,\n          1750.0\n        ],\n        \"semantic_type\": \"\",\n        \"description\": \"\"\n      }\n    },\n    {\n      \"column\": \"Classification\",\n      \"properties\": {\n        \"dtype\": \"number\",\n        \"std\": 0.49298617249795534,\n        \"min\": 1.0,\n        \"max\": 2.0,\n        \"num_unique_values\": 2,\n        \"samples\": [\n          2.0,\n          1.0\n        ],\n        \"semantic_type\": \"\",\n        \"description\": \"\"\n      }\n    },\n    {\n      \"column\": \"ExciseTax\",\n      \"properties\": {\n        \"dtype\": \"number\",\n        \"std\": 3.0392515422778623,\n        \"min\": 0.01,\n        \"max\": 220.5,\n        \"num_unique_values\": 191,\n        \"samples\": [\n          51.19,\n          2.92\n        ],\n        \"semantic_type\": \"\",\n        \"description\": \"\"\n      }\n    },\n    {\n      \"column\": \"Volume_mL_per_unit\",\n      \"properties\": {\n        \"dtype\": \"number\",\n        \"std\": 656.784707920527,\n        \"min\": 50.0,\n        \"max\": 5000.0,\n        \"num_unique_values\": 17,\n        \"samples\": [\n          750.0,\n          375.0\n        ],\n        \"semantic_type\": \"\",\n        \"description\": \"\"\n      }\n    },\n    {\n      \"column\": \"Year\",\n      \"properties\": {\n        \"dtype\": \"int32\",\n        \"num_unique_values\": 1,\n        \"samples\": [\n          2016\n        ],\n        \"semantic_type\": \"\",\n        \"description\": \"\"\n      }\n    },\n    {\n      \"column\": \"Month\",\n      \"properties\": {\n        \"dtype\": \"int32\",\n        \"num_unique_values\": 1,\n        \"samples\": [\n          1\n        ],\n        \"semantic_type\": \"\",\n        \"description\": \"\"\n      }\n    },\n    {\n      \"column\": \"Day\",\n      \"properties\": {\n        \"dtype\": \"int32\",\n        \"num_unique_values\": 31,\n        \"samples\": [\n          21\n        ],\n        \"semantic_type\": \"\",\n        \"description\": \"\"\n      }\n    },\n    {\n      \"column\": \"Weekday\",\n      \"properties\": {\n        \"dtype\": \"int32\",\n        \"num_unique_values\": 7,\n        \"samples\": [\n          4\n        ],\n        \"semantic_type\": \"\",\n        \"description\": \"\"\n      }\n    },\n    {\n      \"column\": \"TotalSales\",\n      \"properties\": {\n        \"dtype\": \"number\",\n        \"std\": 57.53964038874345,\n        \"min\": 0.99,\n        \"max\": 4499.4,\n        \"num_unique_values\": 1128,\n        \"samples\": [\n          167.86\n        ],\n        \"semantic_type\": \"\",\n        \"description\": \"\"\n      }\n    },\n    {\n      \"column\": \"TotalVolumeSold\",\n      \"properties\": {\n        \"dtype\": \"number\",\n        \"std\": 3213.720732471966,\n        \"min\": 50.0,\n        \"max\": 210000.0,\n        \"num_unique_values\": 156,\n        \"samples\": [\n          25000.0\n        ],\n        \"semantic_type\": \"\",\n        \"description\": \"\"\n      }\n    }\n  ]\n}"
            }
          },
          "metadata": {},
          "execution_count": 40
        }
      ]
    },
    {
      "cell_type": "markdown",
      "source": [
        "#2nd Question\n"
      ],
      "metadata": {
        "id": "35FRAg7-aJhK"
      }
    },
    {
      "cell_type": "markdown",
      "source": [
        "#ABC Analysis Classify inventory into A (high value), B (moderate), and C (low priority).Prioritize high-value inventory management."
      ],
      "metadata": {
        "id": "OYvQltn7aBq8"
      }
    },
    {
      "cell_type": "code",
      "source": [
        "grouped = df.groupby('Brand').agg({'TotalSales': 'sum'}).reset_index()"
      ],
      "metadata": {
        "id": "SqovUWDeZctZ"
      },
      "execution_count": 41,
      "outputs": []
    },
    {
      "cell_type": "code",
      "source": [
        "grouped = grouped.sort_values(by='TotalSales', ascending=False)"
      ],
      "metadata": {
        "id": "C_mkG4ogaS7n"
      },
      "execution_count": 42,
      "outputs": []
    },
    {
      "cell_type": "code",
      "source": [
        "grouped['CumulativeSales'] = grouped['TotalSales'].cumsum()\n",
        "grouped['CumulativePercentage'] = 100 * grouped['CumulativeSales'] / grouped['TotalSales'].sum()"
      ],
      "metadata": {
        "id": "ole5ey6GaVyK"
      },
      "execution_count": 43,
      "outputs": []
    },
    {
      "cell_type": "code",
      "source": [
        "def classify(row):\n",
        "    if row['CumulativePercentage'] <= 70:\n",
        "        return 'A'\n",
        "    elif row['CumulativePercentage'] <= 90:\n",
        "        return 'B'\n",
        "    else:\n",
        "        return 'C'\n",
        "\n",
        "grouped['ABC_Class'] = grouped.apply(classify, axis=1)"
      ],
      "metadata": {
        "id": "zPB-rhssaZu5"
      },
      "execution_count": 44,
      "outputs": []
    },
    {
      "cell_type": "code",
      "source": [
        "# Count of brands in each class\n",
        "abc_counts = grouped['ABC_Class'].value_counts().sort_index()\n",
        "\n",
        "# Plot\n",
        "plt.figure(figsize=(6,4))\n",
        "ax = sns.barplot(x=abc_counts.index, y=abc_counts.values, palette=\"Set2\")\n",
        "\n",
        "# Add value labels on top of each bar\n",
        "for i, value in enumerate(abc_counts.values):\n",
        "    ax.text(i, value + 0.5, str(value), ha='center', va='bottom', fontweight='bold')\n",
        "\n",
        "# Add labels and title\n",
        "plt.title('ABC Inventory Classification')\n",
        "plt.xlabel('Class')\n",
        "plt.ylabel('Number of Brands')\n",
        "plt.grid(True, axis='y', linestyle='--', alpha=0.7)\n",
        "\n",
        "# Show plot\n",
        "plt.tight_layout()\n",
        "plt.show()\n"
      ],
      "metadata": {
        "colab": {
          "base_uri": "https://localhost:8080/",
          "height": 518
        },
        "id": "Jn50dBeAap1A",
        "outputId": "af5af051-dc70-4018-d73e-562b73e474ab"
      },
      "execution_count": 47,
      "outputs": [
        {
          "output_type": "stream",
          "name": "stderr",
          "text": [
            "<ipython-input-47-d1f82b760f43>:6: FutureWarning: \n",
            "\n",
            "Passing `palette` without assigning `hue` is deprecated and will be removed in v0.14.0. Assign the `x` variable to `hue` and set `legend=False` for the same effect.\n",
            "\n",
            "  ax = sns.barplot(x=abc_counts.index, y=abc_counts.values, palette=\"Set2\")\n"
          ]
        },
        {
          "output_type": "display_data",
          "data": {
            "text/plain": [
              "<Figure size 600x400 with 1 Axes>"
            ],
            "image/png": "[encoded data removed]"
          },
          "metadata": {}
        }
      ]
    },
    {
      "cell_type": "markdown",
      "source": [
        "#4th Question"
      ],
      "metadata": {
        "id": "D1WSiVlVdtLO"
      }
    },
    {
      "cell_type": "markdown",
      "source": [
        "#Reorder Point Analysis\n",
        "#Determine reorder points for each product to avoid stockouts.\n",
        "#Factor in lead time to ensure continuity."
      ],
      "metadata": {
        "id": "YC0acwQddxNP"
      }
    },
    {
      "cell_type": "code",
      "source": [
        "\n",
        "df['SalesDate'] = pd.to_datetime(df['SalesDate'])\n",
        "\n",
        "# Group by product and day\n",
        "daily_sales = df.groupby(['Brand', 'Size', 'SalesDate'])['SalesQuantity'].sum().reset_index()\n",
        "\n",
        "# Calculate average daily sales per product\n",
        "avg_daily_demand = daily_sales.groupby(['Brand', 'Size'])['SalesQuantity'].mean().reset_index()\n",
        "avg_daily_demand.rename(columns={'SalesQuantity': 'AvgDailySales'}, inplace=True)\n"
      ],
      "metadata": {
        "id": "UxG6KO-ebCsr"
      },
      "execution_count": 48,
      "outputs": []
    },
    {
      "cell_type": "code",
      "source": [
        "avg_daily_demand['LeadTime_days'] = 7\n",
        "avg_daily_demand['SafetyStock'] = 5\n"
      ],
      "metadata": {
        "id": "GQyMSc0Wd6FY"
      },
      "execution_count": 49,
      "outputs": []
    },
    {
      "cell_type": "code",
      "source": [
        "avg_daily_demand['ReorderPoint'] = (\n",
        "    avg_daily_demand['AvgDailySales'] * avg_daily_demand['LeadTime_days']\n",
        ") + avg_daily_demand['SafetyStock']\n"
      ],
      "metadata": {
        "id": "b_z5Zyqdd-u9"
      },
      "execution_count": 50,
      "outputs": []
    },
    {
      "cell_type": "code",
      "source": [
        "print(avg_daily_demand[['Brand', 'Size', 'AvgDailySales', 'LeadTime_days', 'SafetyStock', 'ReorderPoint']])\n"
      ],
      "metadata": {
        "colab": {
          "base_uri": "https://localhost:8080/"
        },
        "id": "crcJCId5eBMl",
        "outputId": "5824e293-b457-48ab-d8a3-db4e4bb38c65"
      },
      "execution_count": 51,
      "outputs": [
        {
          "output_type": "stream",
          "name": "stdout",
          "text": [
            "      Brand   Size  AvgDailySales  LeadTime_days  SafetyStock  ReorderPoint\n",
            "0        58  750mL       1.500000              7            5     15.500000\n",
            "1        60  750mL       1.400000              7            5     14.800000\n",
            "2        62  750mL       1.555556              7            5     15.888889\n",
            "3        63  750mL       1.666667              7            5     16.666667\n",
            "4        75  750mL       1.000000              7            5     12.000000\n",
            "...     ...    ...            ...            ...          ...           ...\n",
            "3666  46934  750mL       1.615385              7            5     16.307692\n",
            "3667  47009  750mL       1.000000              7            5     12.000000\n",
            "3668  47014  750mL       2.500000              7            5     22.500000\n",
            "3669  47027   1.5L       1.000000              7            5     12.000000\n",
            "3670  47090  750mL       1.000000              7            5     12.000000\n",
            "\n",
            "[3671 rows x 6 columns]\n"
          ]
        }
      ]
    },
    {
      "cell_type": "code",
      "source": [
        "import seaborn as sns\n",
        "import matplotlib.pyplot as plt\n",
        "\n",
        "plt.figure(figsize=(10, 6))\n",
        "sns.histplot(avg_daily_demand['ReorderPoint'], bins=10, kde=True, color='teal')\n",
        "plt.title('Histogram of Reorder Points with KDE')\n",
        "plt.xlabel('Reorder Point')\n",
        "plt.ylabel('Count')\n",
        "plt.grid(True)\n",
        "plt.show()\n"
      ],
      "metadata": {
        "colab": {
          "base_uri": "https://localhost:8080/",
          "height": 564
        },
        "id": "jY2Fiy17exNb",
        "outputId": "864c60a6-6d2e-4ac2-d29e-fee26937b4e1"
      },
      "execution_count": 53,
      "outputs": [
        {
          "output_type": "display_data",
          "data": {
            "text/plain": [
              "<Figure size 1000x600 with 1 Axes>"
            ],
            "image/png": "[encoded data removed]"
          },
          "metadata": {}
        }
      ]
    },
    {
      "cell_type": "code",
      "source": [
        "import matplotlib.pyplot as plt\n",
        "\n",
        "plt.figure(figsize=(10, 6))\n",
        "plt.hist(avg_daily_demand['ReorderPoint'], bins=10, color='skyblue', edgecolor='black')\n",
        "plt.title('Histogram of Reorder Points')\n",
        "plt.xlabel('Reorder Point')\n",
        "plt.ylabel('Frequency')\n",
        "plt.grid(True)\n",
        "plt.show()\n"
      ],
      "metadata": {
        "colab": {
          "base_uri": "https://localhost:8080/",
          "height": 564
        },
        "id": "7R7HN9etfB2V",
        "outputId": "ce64b606-29f5-4e58-9041-65c38ad6f685"
      },
      "execution_count": 54,
      "outputs": [
        {
          "output_type": "display_data",
          "data": {
            "text/plain": [
              "<Figure size 1000x600 with 1 Axes>"
            ],
            "image/png": "[encoded data removed]"
          },
          "metadata": {}
        }
      ]
    },
    {
      "cell_type": "markdown",
      "source": [
        "#Here InvoicePurchase Data is used"
      ],
      "metadata": {
        "id": "HPD0t0I7gTKz"
      }
    },
    {
      "cell_type": "code",
      "source": [
        "df1=pd.read_csv('/content/InvoicePurchases12312016.csv')"
      ],
      "metadata": {
        "id": "i3l46FIZfHR_"
      },
      "execution_count": 3,
      "outputs": []
    },
    {
      "cell_type": "code",
      "source": [
        "df1.head()"
      ],
      "metadata": {
        "colab": {
          "base_uri": "https://localhost:8080/",
          "height": 206
        },
        "id": "CDIm4eLigeaR",
        "outputId": "4a3ef3d1-2462-40eb-d688-de83d62d375b"
      },
      "execution_count": 4,
      "outputs": [
        {
          "output_type": "execute_result",
          "data": {
            "text/plain": [
              "   VendorNumber                   VendorName InvoiceDate  PONumber  \\\n",
              "0           105  ALTAMAR BRANDS LLC           2016-01-04      8124   \n",
              "1          4466  AMERICAN VINTAGE BEVERAGE    2016-01-07      8137   \n",
              "2           388  ATLANTIC IMPORTING COMPANY   2016-01-09      8169   \n",
              "3           480  BACARDI USA INC              2016-01-12      8106   \n",
              "4           516  BANFI PRODUCTS CORP          2016-01-07      8170   \n",
              "\n",
              "       PODate     PayDate  Quantity    Dollars  Freight Approval  \n",
              "0  2015-12-21  2016-02-16         6     214.26     3.47      NaN  \n",
              "1  2015-12-22  2016-02-21        15     140.55     8.57      NaN  \n",
              "2  2015-12-24  2016-02-16         5     106.60     4.61      NaN  \n",
              "3  2015-12-20  2016-02-05     10100  137483.78  2935.20      NaN  \n",
              "4  2015-12-24  2016-02-12      1935   15527.25   429.20      NaN  "
            ],
            "text/html": [
              "\n",
              "  <div id=\"df-54717e8c-f5cd-405b-a850-6d592e78c606\" class=\"colab-df-container\">\n",
              "    <div>\n",
              "<style scoped>\n",
              "    .dataframe tbody tr th:only-of-type {\n",
              "        vertical-align: middle;\n",
              "    }\n",
              "\n",
              "    .dataframe tbody tr th {\n",
              "        vertical-align: top;\n",
              "    }\n",
              "\n",
              "    .dataframe thead th {\n",
              "        text-align: right;\n",
              "    }\n",
              "</style>\n",
              "<table border=\"1\" class=\"dataframe\">\n",
              "  <thead>\n",
              "    <tr style=\"text-align: right;\">\n",
              "      <th></th>\n",
              "      <th>VendorNumber</th>\n",
              "      <th>VendorName</th>\n",
              "      <th>InvoiceDate</th>\n",
              "      <th>PONumber</th>\n",
              "      <th>PODate</th>\n",
              "      <th>PayDate</th>\n",
              "      <th>Quantity</th>\n",
              "      <th>Dollars</th>\n",
              "      <th>Freight</th>\n",
              "      <th>Approval</th>\n",
              "    </tr>\n",
              "  </thead>\n",
              "  <tbody>\n",
              "    <tr>\n",
              "      <th>0</th>\n",
              "      <td>105</td>\n",
              "      <td>ALTAMAR BRANDS LLC</td>\n",
              "      <td>2016-01-04</td>\n",
              "      <td>8124</td>\n",
              "      <td>2015-12-21</td>\n",
              "      <td>2016-02-16</td>\n",
              "      <td>6</td>\n",
              "      <td>214.26</td>\n",
              "      <td>3.47</td>\n",
              "      <td>NaN</td>\n",
              "    </tr>\n",
              "    <tr>\n",
              "      <th>1</th>\n",
              "      <td>4466</td>\n",
              "      <td>AMERICAN VINTAGE BEVERAGE</td>\n",
              "      <td>2016-01-07</td>\n",
              "      <td>8137</td>\n",
              "      <td>2015-12-22</td>\n",
              "      <td>2016-02-21</td>\n",
              "      <td>15</td>\n",
              "      <td>140.55</td>\n",
              "      <td>8.57</td>\n",
              "      <td>NaN</td>\n",
              "    </tr>\n",
              "    <tr>\n",
              "      <th>2</th>\n",
              "      <td>388</td>\n",
              "      <td>ATLANTIC IMPORTING COMPANY</td>\n",
              "      <td>2016-01-09</td>\n",
              "      <td>8169</td>\n",
              "      <td>2015-12-24</td>\n",
              "      <td>2016-02-16</td>\n",
              "      <td>5</td>\n",
              "      <td>106.60</td>\n",
              "      <td>4.61</td>\n",
              "      <td>NaN</td>\n",
              "    </tr>\n",
              "    <tr>\n",
              "      <th>3</th>\n",
              "      <td>480</td>\n",
              "      <td>BACARDI USA INC</td>\n",
              "      <td>2016-01-12</td>\n",
              "      <td>8106</td>\n",
              "      <td>2015-12-20</td>\n",
              "      <td>2016-02-05</td>\n",
              "      <td>10100</td>\n",
              "      <td>137483.78</td>\n",
              "      <td>2935.20</td>\n",
              "      <td>NaN</td>\n",
              "    </tr>\n",
              "    <tr>\n",
              "      <th>4</th>\n",
              "      <td>516</td>\n",
              "      <td>BANFI PRODUCTS CORP</td>\n",
              "      <td>2016-01-07</td>\n",
              "      <td>8170</td>\n",
              "      <td>2015-12-24</td>\n",
              "      <td>2016-02-12</td>\n",
              "      <td>1935</td>\n",
              "      <td>15527.25</td>\n",
              "      <td>429.20</td>\n",
              "      <td>NaN</td>\n",
              "    </tr>\n",
              "  </tbody>\n",
              "</table>\n",
              "</div>\n",
              "    <div class=\"colab-df-buttons\">\n",
              "\n",
              "  <div class=\"colab-df-container\">\n",
              "    <button class=\"colab-df-convert\" onclick=\"convertToInteractive('df-54717e8c-f5cd-405b-a850-6d592e78c606')\"\n",
              "            title=\"Convert this dataframe to an interactive table.\"\n",
              "            style=\"display:none;\">\n",
              "\n",
              "  <svg xmlns=\"http://www.w3.org/2000/svg\" height=\"24px\" viewBox=\"0 -960 960 960\">\n",
              "    <path d=\"M120-120v-720h720v720H120Zm60-500h600v-160H180v160Zm220 220h160v-160H400v160Zm0 220h160v-160H400v160ZM180-400h160v-160H180v160Zm440 0h160v-160H620v160ZM180-180h160v-160H180v160Zm440 0h160v-160H620v160Z\"/>\n",
              "  </svg>\n",
              "    </button>\n",
              "\n",
              "  <style>\n",
              "    .colab-df-container {\n",
              "      display:flex;\n",
              "      gap: 12px;\n",
              "    }\n",
              "\n",
              "    .colab-df-convert {\n",
              "      background-color: #E8F0FE;\n",
              "      border: none;\n",
              "      border-radius: 50%;\n",
              "      cursor: pointer;\n",
              "      display: none;\n",
              "      fill: #1967D2;\n",
              "      height: 32px;\n",
              "      padding: 0 0 0 0;\n",
              "      width: 32px;\n",
              "    }\n",
              "\n",
              "    .colab-df-convert:hover {\n",
              "      background-color: #E2EBFA;\n",
              "      box-shadow: 0px 1px 2px rgba(60, 64, 67, 0.3), 0px 1px 3px 1px rgba(60, 64, 67, 0.15);\n",
              "      fill: #174EA6;\n",
              "    }\n",
              "\n",
              "    .colab-df-buttons div {\n",
              "      margin-bottom: 4px;\n",
              "    }\n",
              "\n",
              "    [theme=dark] .colab-df-convert {\n",
              "      background-color: #3B4455;\n",
              "      fill: #D2E3FC;\n",
              "    }\n",
              "\n",
              "    [theme=dark] .colab-df-convert:hover {\n",
              "      background-color: #434B5C;\n",
              "      box-shadow: 0px 1px 3px 1px rgba(0, 0, 0, 0.15);\n",
              "      filter: drop-shadow(0px 1px 2px rgba(0, 0, 0, 0.3));\n",
              "      fill: #FFFFFF;\n",
              "    }\n",
              "  </style>\n",
              "\n",
              "    <script>\n",
              "      const buttonEl =\n",
              "        document.querySelector('#df-54717e8c-f5cd-405b-a850-6d592e78c606 button.colab-df-convert');\n",
              "      buttonEl.style.display =\n",
              "        google.colab.kernel.accessAllowed ? 'block' : 'none';\n",
              "\n",
              "      async function convertToInteractive(key) {\n",
              "        const element = document.querySelector('#df-54717e8c-f5cd-405b-a850-6d592e78c606');\n",
              "        const dataTable =\n",
              "          await google.colab.kernel.invokeFunction('convertToInteractive',\n",
              "                                                    [key], {});\n",
              "        if (!dataTable) return;\n",
              "\n",
              "        const docLinkHtml = 'Like what you see? Visit the ' +\n",
              "          '<a target=\"_blank\" href=https://colab.research.google.com/notebooks/data_table.ipynb>data table notebook</a>'\n",
              "          + ' to learn more about interactive tables.';\n",
              "        element.innerHTML = '';\n",
              "        dataTable['output_type'] = 'display_data';\n",
              "        await google.colab.output.renderOutput(dataTable, element);\n",
              "        const docLink = document.createElement('div');\n",
              "        docLink.innerHTML = docLinkHtml;\n",
              "        element.appendChild(docLink);\n",
              "      }\n",
              "    </script>\n",
              "  </div>\n",
              "\n",
              "\n",
              "    <div id=\"df-155c4bdd-2371-47ee-859f-9c7580844439\">\n",
              "      <button class=\"colab-df-quickchart\" onclick=\"quickchart('df-155c4bdd-2371-47ee-859f-9c7580844439')\"\n",
              "                title=\"Suggest charts\"\n",
              "                style=\"display:none;\">\n",
              "\n",
              "<svg xmlns=\"http://www.w3.org/2000/svg\" height=\"24px\"viewBox=\"0 0 24 24\"\n",
              "     width=\"24px\">\n",
              "    <g>\n",
              "        <path d=\"M19 3H5c-1.1 0-2 .9-2 2v14c0 1.1.9 2 2 2h14c1.1 0 2-.9 2-2V5c0-1.1-.9-2-2-2zM9 17H7v-7h2v7zm4 0h-2V7h2v10zm4 0h-2v-4h2v4z\"/>\n",
              "    </g>\n",
              "</svg>\n",
              "      </button>\n",
              "\n",
              "<style>\n",
              "  .colab-df-quickchart {\n",
              "      --bg-color: #E8F0FE;\n",
              "      --fill-color: #1967D2;\n",
              "      --hover-bg-color: #E2EBFA;\n",
              "      --hover-fill-color: #174EA6;\n",
              "      --disabled-fill-color: #AAA;\n",
              "      --disabled-bg-color: #DDD;\n",
              "  }\n",
              "\n",
              "  [theme=dark] .colab-df-quickchart {\n",
              "      --bg-color: #3B4455;\n",
              "      --fill-color: #D2E3FC;\n",
              "      --hover-bg-color: #434B5C;\n",
              "      --hover-fill-color: #FFFFFF;\n",
              "      --disabled-bg-color: #3B4455;\n",
              "      --disabled-fill-color: #666;\n",
              "  }\n",
              "\n",
              "  .colab-df-quickchart {\n",
              "    background-color: var(--bg-color);\n",
              "    border: none;\n",
              "    border-radius: 50%;\n",
              "    cursor: pointer;\n",
              "    display: none;\n",
              "    fill: var(--fill-color);\n",
              "    height: 32px;\n",
              "    padding: 0;\n",
              "    width: 32px;\n",
              "  }\n",
              "\n",
              "  .colab-df-quickchart:hover {\n",
              "    background-color: var(--hover-bg-color);\n",
              "    box-shadow: 0 1px 2px rgba(60, 64, 67, 0.3), 0 1px 3px 1px rgba(60, 64, 67, 0.15);\n",
              "    fill: var(--button-hover-fill-color);\n",
              "  }\n",
              "\n",
              "  .colab-df-quickchart-complete:disabled,\n",
              "  .colab-df-quickchart-complete:disabled:hover {\n",
              "    background-color: var(--disabled-bg-color);\n",
              "    fill: var(--disabled-fill-color);\n",
              "    box-shadow: none;\n",
              "  }\n",
              "\n",
              "  .colab-df-spinner {\n",
              "    border: 2px solid var(--fill-color);\n",
              "    border-color: transparent;\n",
              "    border-bottom-color: var(--fill-color);\n",
              "    animation:\n",
              "      spin 1s steps(1) infinite;\n",
              "  }\n",
              "\n",
              "  @keyframes spin {\n",
              "    0% {\n",
              "      border-color: transparent;\n",
              "      border-bottom-color: var(--fill-color);\n",
              "      border-left-color: var(--fill-color);\n",
              "    }\n",
              "    20% {\n",
              "      border-color: transparent;\n",
              "      border-left-color: var(--fill-color);\n",
              "      border-top-color: var(--fill-color);\n",
              "    }\n",
              "    30% {\n",
              "      border-color: transparent;\n",
              "      border-left-color: var(--fill-color);\n",
              "      border-top-color: var(--fill-color);\n",
              "      border-right-color: var(--fill-color);\n",
              "    }\n",
              "    40% {\n",
              "      border-color: transparent;\n",
              "      border-right-color: var(--fill-color);\n",
              "      border-top-color: var(--fill-color);\n",
              "    }\n",
              "    60% {\n",
              "      border-color: transparent;\n",
              "      border-right-color: var(--fill-color);\n",
              "    }\n",
              "    80% {\n",
              "      border-color: transparent;\n",
              "      border-right-color: var(--fill-color);\n",
              "      border-bottom-color: var(--fill-color);\n",
              "    }\n",
              "    90% {\n",
              "      border-color: transparent;\n",
              "      border-bottom-color: var(--fill-color);\n",
              "    }\n",
              "  }\n",
              "</style>\n",
              "\n",
              "      <script>\n",
              "        async function quickchart(key) {\n",
              "          const quickchartButtonEl =\n",
              "            document.querySelector('#' + key + ' button');\n",
              "          quickchartButtonEl.disabled = true;  // To prevent multiple clicks.\n",
              "          quickchartButtonEl.classList.add('colab-df-spinner');\n",
              "          try {\n",
              "            const charts = await google.colab.kernel.invokeFunction(\n",
              "                'suggestCharts', [key], {});\n",
              "          } catch (error) {\n",
              "            console.error('Error during call to suggestCharts:', error);\n",
              "          }\n",
              "          quickchartButtonEl.classList.remove('colab-df-spinner');\n",
              "          quickchartButtonEl.classList.add('colab-df-quickchart-complete');\n",
              "        }\n",
              "        (() => {\n",
              "          let quickchartButtonEl =\n",
              "            document.querySelector('#df-155c4bdd-2371-47ee-859f-9c7580844439 button');\n",
              "          quickchartButtonEl.style.display =\n",
              "            google.colab.kernel.accessAllowed ? 'block' : 'none';\n",
              "        })();\n",
              "      </script>\n",
              "    </div>\n",
              "\n",
              "    </div>\n",
              "  </div>\n"
            ],
            "application/vnd.google.colaboratory.intrinsic+json": {
              "type": "dataframe",
              "variable_name": "df1",
              "summary": "{\n  \"name\": \"df1\",\n  \"rows\": 5543,\n  \"fields\": [\n    {\n      \"column\": \"VendorNumber\",\n      \"properties\": {\n        \"dtype\": \"number\",\n        \"std\": 34582,\n        \"min\": 2,\n        \"max\": 201359,\n        \"num_unique_values\": 126,\n        \"samples\": [\n          8920,\n          2555,\n          60\n        ],\n        \"semantic_type\": \"\",\n        \"description\": \"\"\n      }\n    },\n    {\n      \"column\": \"VendorName\",\n      \"properties\": {\n        \"dtype\": \"category\",\n        \"num_unique_values\": 129,\n        \"samples\": [\n          \"POVERTY LANE ORCHARDS      \",\n          \"MAJESTIC FINE WINES        \",\n          \"DISARONNO INTERNATIONAL LLC\"\n        ],\n        \"semantic_type\": \"\",\n        \"description\": \"\"\n      }\n    },\n    {\n      \"column\": \"InvoiceDate\",\n      \"properties\": {\n        \"dtype\": \"object\",\n        \"num_unique_values\": 373,\n        \"samples\": [\n          \"2016-11-26\",\n          \"2016-02-07\",\n          \"2016-01-18\"\n        ],\n        \"semantic_type\": \"\",\n        \"description\": \"\"\n      }\n    },\n    {\n      \"column\": \"PONumber\",\n      \"properties\": {\n        \"dtype\": \"number\",\n        \"std\": 1600,\n        \"min\": 8106,\n        \"max\": 13661,\n        \"num_unique_values\": 5543,\n        \"samples\": [\n          12694,\n          9749,\n          12955\n        ],\n        \"semantic_type\": \"\",\n        \"description\": \"\"\n      }\n    },\n    {\n      \"column\": \"PODate\",\n      \"properties\": {\n        \"dtype\": \"object\",\n        \"num_unique_values\": 319,\n        \"samples\": [\n          \"2016-03-17\",\n          \"2016-08-30\",\n          \"2016-01-19\"\n        ],\n        \"semantic_type\": \"\",\n        \"description\": \"\"\n      }\n    },\n    {\n      \"column\": \"PayDate\",\n      \"properties\": {\n        \"dtype\": \"object\",\n        \"num_unique_values\": 382,\n        \"samples\": [\n          \"2016-11-13\",\n          \"2016-10-08\",\n          \"2016-09-07\"\n        ],\n        \"semantic_type\": \"\",\n        \"description\": \"\"\n      }\n    },\n    {\n      \"column\": \"Quantity\",\n      \"properties\": {\n        \"dtype\": \"number\",\n        \"std\": 14453,\n        \"min\": 1,\n        \"max\": 141660,\n        \"num_unique_values\": 2895,\n        \"samples\": [\n          168,\n          33109,\n          30632\n        ],\n        \"semantic_type\": \"\",\n        \"description\": \"\"\n      }\n    },\n    {\n      \"column\": \"Dollars\",\n      \"properties\": {\n        \"dtype\": \"number\",\n        \"std\": 140234.03137669558,\n        \"min\": 4.14,\n        \"max\": 1660435.88,\n        \"num_unique_values\": 5226,\n        \"samples\": [\n          15.36,\n          767.52,\n          5645.24\n        ],\n        \"semantic_type\": \"\",\n        \"description\": \"\"\n      }\n    },\n    {\n      \"column\": \"Freight\",\n      \"properties\": {\n        \"dtype\": \"number\",\n        \"std\": 713.5850931217905,\n        \"min\": 0.02,\n        \"max\": 8468.22,\n        \"num_unique_values\": 4052,\n        \"samples\": [\n          543.49,\n          5.89,\n          178.33\n        ],\n        \"semantic_type\": \"\",\n        \"description\": \"\"\n      }\n    },\n    {\n      \"column\": \"Approval\",\n      \"properties\": {\n        \"dtype\": \"category\",\n        \"num_unique_values\": 1,\n        \"samples\": [\n          \"Frank Delahunt\"\n        ],\n        \"semantic_type\": \"\",\n        \"description\": \"\"\n      }\n    }\n  ]\n}"
            }
          },
          "metadata": {},
          "execution_count": 4
        }
      ]
    },
    {
      "cell_type": "code",
      "source": [
        "df1['Approval'].isnull().sum()"
      ],
      "metadata": {
        "colab": {
          "base_uri": "https://localhost:8080/"
        },
        "id": "08gXuCIxggWR",
        "outputId": "c6f7a7ca-ca96-4601-9a5e-cc4b3da26ce0"
      },
      "execution_count": 5,
      "outputs": [
        {
          "output_type": "execute_result",
          "data": {
            "text/plain": [
              "np.int64(5169)"
            ]
          },
          "metadata": {},
          "execution_count": 5
        }
      ]
    },
    {
      "cell_type": "code",
      "source": [
        "df1.shape"
      ],
      "metadata": {
        "colab": {
          "base_uri": "https://localhost:8080/"
        },
        "id": "DWAhRdawdhhP",
        "outputId": "428329bc-4836-44c8-f3a9-a89c83544e32"
      },
      "execution_count": 6,
      "outputs": [
        {
          "output_type": "execute_result",
          "data": {
            "text/plain": [
              "(5543, 10)"
            ]
          },
          "metadata": {},
          "execution_count": 6
        }
      ]
    },
    {
      "cell_type": "code",
      "source": [
        "df1=df1.drop(['PONumber','Quantity','Dollars','Freight','Approval'],axis=True)"
      ],
      "metadata": {
        "id": "xnxlNTOOdlg3"
      },
      "execution_count": 7,
      "outputs": []
    },
    {
      "cell_type": "code",
      "source": [
        "df1.info()"
      ],
      "metadata": {
        "colab": {
          "base_uri": "https://localhost:8080/"
        },
        "id": "1O-6BVJcfDVd",
        "outputId": "d1663f68-eebc-42ea-ded2-715e14e0c971"
      },
      "execution_count": 8,
      "outputs": [
        {
          "output_type": "stream",
          "name": "stdout",
          "text": [
            "<class 'pandas.core.frame.DataFrame'>\n",
            "RangeIndex: 5543 entries, 0 to 5542\n",
            "Data columns (total 5 columns):\n",
            " #   Column        Non-Null Count  Dtype \n",
            "---  ------        --------------  ----- \n",
            " 0   VendorNumber  5543 non-null   int64 \n",
            " 1   VendorName    5543 non-null   object\n",
            " 2   InvoiceDate   5543 non-null   object\n",
            " 3   PODate        5543 non-null   object\n",
            " 4   PayDate       5543 non-null   object\n",
            "dtypes: int64(1), object(4)\n",
            "memory usage: 216.7+ KB\n"
          ]
        }
      ]
    },
    {
      "cell_type": "code",
      "source": [
        "df1['InvoiceDate']=pd.to_datetime(df1['InvoiceDate'])\n",
        "df1['PODate']=pd.to_datetime(df1['PODate'])\n",
        "df1['PayDate']=pd.to_datetime(df1['PayDate'])"
      ],
      "metadata": {
        "id": "5sELdU_LfFJ5"
      },
      "execution_count": 9,
      "outputs": []
    },
    {
      "cell_type": "code",
      "source": [
        "df1.head()"
      ],
      "metadata": {
        "colab": {
          "base_uri": "https://localhost:8080/",
          "height": 206
        },
        "id": "kda0PYY0fnJf",
        "outputId": "e5b8301b-82e9-455d-d1d7-cae4bc95495e"
      },
      "execution_count": 10,
      "outputs": [
        {
          "output_type": "execute_result",
          "data": {
            "text/plain": [
              "   VendorNumber                   VendorName InvoiceDate     PODate    PayDate\n",
              "0           105  ALTAMAR BRANDS LLC           2016-01-04 2015-12-21 2016-02-16\n",
              "1          4466  AMERICAN VINTAGE BEVERAGE    2016-01-07 2015-12-22 2016-02-21\n",
              "2           388  ATLANTIC IMPORTING COMPANY   2016-01-09 2015-12-24 2016-02-16\n",
              "3           480  BACARDI USA INC              2016-01-12 2015-12-20 2016-02-05\n",
              "4           516  BANFI PRODUCTS CORP          2016-01-07 2015-12-24 2016-02-12"
            ],
            "text/html": [
              "\n",
              "  <div id=\"df-abbea79b-2037-4746-bf9d-7e3f406fc800\" class=\"colab-df-container\">\n",
              "    <div>\n",
              "<style scoped>\n",
              "    .dataframe tbody tr th:only-of-type {\n",
              "        vertical-align: middle;\n",
              "    }\n",
              "\n",
              "    .dataframe tbody tr th {\n",
              "        vertical-align: top;\n",
              "    }\n",
              "\n",
              "    .dataframe thead th {\n",
              "        text-align: right;\n",
              "    }\n",
              "</style>\n",
              "<table border=\"1\" class=\"dataframe\">\n",
              "  <thead>\n",
              "    <tr style=\"text-align: right;\">\n",
              "      <th></th>\n",
              "      <th>VendorNumber</th>\n",
              "      <th>VendorName</th>\n",
              "      <th>InvoiceDate</th>\n",
              "      <th>PODate</th>\n",
              "      <th>PayDate</th>\n",
              "    </tr>\n",
              "  </thead>\n",
              "  <tbody>\n",
              "    <tr>\n",
              "      <th>0</th>\n",
              "      <td>105</td>\n",
              "      <td>ALTAMAR BRANDS LLC</td>\n",
              "      <td>2016-01-04</td>\n",
              "      <td>2015-12-21</td>\n",
              "      <td>2016-02-16</td>\n",
              "    </tr>\n",
              "    <tr>\n",
              "      <th>1</th>\n",
              "      <td>4466</td>\n",
              "      <td>AMERICAN VINTAGE BEVERAGE</td>\n",
              "      <td>2016-01-07</td>\n",
              "      <td>2015-12-22</td>\n",
              "      <td>2016-02-21</td>\n",
              "    </tr>\n",
              "    <tr>\n",
              "      <th>2</th>\n",
              "      <td>388</td>\n",
              "      <td>ATLANTIC IMPORTING COMPANY</td>\n",
              "      <td>2016-01-09</td>\n",
              "      <td>2015-12-24</td>\n",
              "      <td>2016-02-16</td>\n",
              "    </tr>\n",
              "    <tr>\n",
              "      <th>3</th>\n",
              "      <td>480</td>\n",
              "      <td>BACARDI USA INC</td>\n",
              "      <td>2016-01-12</td>\n",
              "      <td>2015-12-20</td>\n",
              "      <td>2016-02-05</td>\n",
              "    </tr>\n",
              "    <tr>\n",
              "      <th>4</th>\n",
              "      <td>516</td>\n",
              "      <td>BANFI PRODUCTS CORP</td>\n",
              "      <td>2016-01-07</td>\n",
              "      <td>2015-12-24</td>\n",
              "      <td>2016-02-12</td>\n",
              "    </tr>\n",
              "  </tbody>\n",
              "</table>\n",
              "</div>\n",
              "    <div class=\"colab-df-buttons\">\n",
              "\n",
              "  <div class=\"colab-df-container\">\n",
              "    <button class=\"colab-df-convert\" onclick=\"convertToInteractive('df-abbea79b-2037-4746-bf9d-7e3f406fc800')\"\n",
              "            title=\"Convert this dataframe to an interactive table.\"\n",
              "            style=\"display:none;\">\n",
              "\n",
              "  <svg xmlns=\"http://www.w3.org/2000/svg\" height=\"24px\" viewBox=\"0 -960 960 960\">\n",
              "    <path d=\"M120-120v-720h720v720H120Zm60-500h600v-160H180v160Zm220 220h160v-160H400v160Zm0 220h160v-160H400v160ZM180-400h160v-160H180v160Zm440 0h160v-160H620v160ZM180-180h160v-160H180v160Zm440 0h160v-160H620v160Z\"/>\n",
              "  </svg>\n",
              "    </button>\n",
              "\n",
              "  <style>\n",
              "    .colab-df-container {\n",
              "      display:flex;\n",
              "      gap: 12px;\n",
              "    }\n",
              "\n",
              "    .colab-df-convert {\n",
              "      background-color: #E8F0FE;\n",
              "      border: none;\n",
              "      border-radius: 50%;\n",
              "      cursor: pointer;\n",
              "      display: none;\n",
              "      fill: #1967D2;\n",
              "      height: 32px;\n",
              "      padding: 0 0 0 0;\n",
              "      width: 32px;\n",
              "    }\n",
              "\n",
              "    .colab-df-convert:hover {\n",
              "      background-color: #E2EBFA;\n",
              "      box-shadow: 0px 1px 2px rgba(60, 64, 67, 0.3), 0px 1px 3px 1px rgba(60, 64, 67, 0.15);\n",
              "      fill: #174EA6;\n",
              "    }\n",
              "\n",
              "    .colab-df-buttons div {\n",
              "      margin-bottom: 4px;\n",
              "    }\n",
              "\n",
              "    [theme=dark] .colab-df-convert {\n",
              "      background-color: #3B4455;\n",
              "      fill: #D2E3FC;\n",
              "    }\n",
              "\n",
              "    [theme=dark] .colab-df-convert:hover {\n",
              "      background-color: #434B5C;\n",
              "      box-shadow: 0px 1px 3px 1px rgba(0, 0, 0, 0.15);\n",
              "      filter: drop-shadow(0px 1px 2px rgba(0, 0, 0, 0.3));\n",
              "      fill: #FFFFFF;\n",
              "    }\n",
              "  </style>\n",
              "\n",
              "    <script>\n",
              "      const buttonEl =\n",
              "        document.querySelector('#df-abbea79b-2037-4746-bf9d-7e3f406fc800 button.colab-df-convert');\n",
              "      buttonEl.style.display =\n",
              "        google.colab.kernel.accessAllowed ? 'block' : 'none';\n",
              "\n",
              "      async function convertToInteractive(key) {\n",
              "        const element = document.querySelector('#df-abbea79b-2037-4746-bf9d-7e3f406fc800');\n",
              "        const dataTable =\n",
              "          await google.colab.kernel.invokeFunction('convertToInteractive',\n",
              "                                                    [key], {});\n",
              "        if (!dataTable) return;\n",
              "\n",
              "        const docLinkHtml = 'Like what you see? Visit the ' +\n",
              "          '<a target=\"_blank\" href=https://colab.research.google.com/notebooks/data_table.ipynb>data table notebook</a>'\n",
              "          + ' to learn more about interactive tables.';\n",
              "        element.innerHTML = '';\n",
              "        dataTable['output_type'] = 'display_data';\n",
              "        await google.colab.output.renderOutput(dataTable, element);\n",
              "        const docLink = document.createElement('div');\n",
              "        docLink.innerHTML = docLinkHtml;\n",
              "        element.appendChild(docLink);\n",
              "      }\n",
              "    </script>\n",
              "  </div>\n",
              "\n",
              "\n",
              "    <div id=\"df-89733305-81ff-4297-949b-5d281aaddf93\">\n",
              "      <button class=\"colab-df-quickchart\" onclick=\"quickchart('df-89733305-81ff-4297-949b-5d281aaddf93')\"\n",
              "                title=\"Suggest charts\"\n",
              "                style=\"display:none;\">\n",
              "\n",
              "<svg xmlns=\"http://www.w3.org/2000/svg\" height=\"24px\"viewBox=\"0 0 24 24\"\n",
              "     width=\"24px\">\n",
              "    <g>\n",
              "        <path d=\"M19 3H5c-1.1 0-2 .9-2 2v14c0 1.1.9 2 2 2h14c1.1 0 2-.9 2-2V5c0-1.1-.9-2-2-2zM9 17H7v-7h2v7zm4 0h-2V7h2v10zm4 0h-2v-4h2v4z\"/>\n",
              "    </g>\n",
              "</svg>\n",
              "      </button>\n",
              "\n",
              "<style>\n",
              "  .colab-df-quickchart {\n",
              "      --bg-color: #E8F0FE;\n",
              "      --fill-color: #1967D2;\n",
              "      --hover-bg-color: #E2EBFA;\n",
              "      --hover-fill-color: #174EA6;\n",
              "      --disabled-fill-color: #AAA;\n",
              "      --disabled-bg-color: #DDD;\n",
              "  }\n",
              "\n",
              "  [theme=dark] .colab-df-quickchart {\n",
              "      --bg-color: #3B4455;\n",
              "      --fill-color: #D2E3FC;\n",
              "      --hover-bg-color: #434B5C;\n",
              "      --hover-fill-color: #FFFFFF;\n",
              "      --disabled-bg-color: #3B4455;\n",
              "      --disabled-fill-color: #666;\n",
              "  }\n",
              "\n",
              "  .colab-df-quickchart {\n",
              "    background-color: var(--bg-color);\n",
              "    border: none;\n",
              "    border-radius: 50%;\n",
              "    cursor: pointer;\n",
              "    display: none;\n",
              "    fill: var(--fill-color);\n",
              "    height: 32px;\n",
              "    padding: 0;\n",
              "    width: 32px;\n",
              "  }\n",
              "\n",
              "  .colab-df-quickchart:hover {\n",
              "    background-color: var(--hover-bg-color);\n",
              "    box-shadow: 0 1px 2px rgba(60, 64, 67, 0.3), 0 1px 3px 1px rgba(60, 64, 67, 0.15);\n",
              "    fill: var(--button-hover-fill-color);\n",
              "  }\n",
              "\n",
              "  .colab-df-quickchart-complete:disabled,\n",
              "  .colab-df-quickchart-complete:disabled:hover {\n",
              "    background-color: var(--disabled-bg-color);\n",
              "    fill: var(--disabled-fill-color);\n",
              "    box-shadow: none;\n",
              "  }\n",
              "\n",
              "  .colab-df-spinner {\n",
              "    border: 2px solid var(--fill-color);\n",
              "    border-color: transparent;\n",
              "    border-bottom-color: var(--fill-color);\n",
              "    animation:\n",
              "      spin 1s steps(1) infinite;\n",
              "  }\n",
              "\n",
              "  @keyframes spin {\n",
              "    0% {\n",
              "      border-color: transparent;\n",
              "      border-bottom-color: var(--fill-color);\n",
              "      border-left-color: var(--fill-color);\n",
              "    }\n",
              "    20% {\n",
              "      border-color: transparent;\n",
              "      border-left-color: var(--fill-color);\n",
              "      border-top-color: var(--fill-color);\n",
              "    }\n",
              "    30% {\n",
              "      border-color: transparent;\n",
              "      border-left-color: var(--fill-color);\n",
              "      border-top-color: var(--fill-color);\n",
              "      border-right-color: var(--fill-color);\n",
              "    }\n",
              "    40% {\n",
              "      border-color: transparent;\n",
              "      border-right-color: var(--fill-color);\n",
              "      border-top-color: var(--fill-color);\n",
              "    }\n",
              "    60% {\n",
              "      border-color: transparent;\n",
              "      border-right-color: var(--fill-color);\n",
              "    }\n",
              "    80% {\n",
              "      border-color: transparent;\n",
              "      border-right-color: var(--fill-color);\n",
              "      border-bottom-color: var(--fill-color);\n",
              "    }\n",
              "    90% {\n",
              "      border-color: transparent;\n",
              "      border-bottom-color: var(--fill-color);\n",
              "    }\n",
              "  }\n",
              "</style>\n",
              "\n",
              "      <script>\n",
              "        async function quickchart(key) {\n",
              "          const quickchartButtonEl =\n",
              "            document.querySelector('#' + key + ' button');\n",
              "          quickchartButtonEl.disabled = true;  // To prevent multiple clicks.\n",
              "          quickchartButtonEl.classList.add('colab-df-spinner');\n",
              "          try {\n",
              "            const charts = await google.colab.kernel.invokeFunction(\n",
              "                'suggestCharts', [key], {});\n",
              "          } catch (error) {\n",
              "            console.error('Error during call to suggestCharts:', error);\n",
              "          }\n",
              "          quickchartButtonEl.classList.remove('colab-df-spinner');\n",
              "          quickchartButtonEl.classList.add('colab-df-quickchart-complete');\n",
              "        }\n",
              "        (() => {\n",
              "          let quickchartButtonEl =\n",
              "            document.querySelector('#df-89733305-81ff-4297-949b-5d281aaddf93 button');\n",
              "          quickchartButtonEl.style.display =\n",
              "            google.colab.kernel.accessAllowed ? 'block' : 'none';\n",
              "        })();\n",
              "      </script>\n",
              "    </div>\n",
              "\n",
              "    </div>\n",
              "  </div>\n"
            ],
            "application/vnd.google.colaboratory.intrinsic+json": {
              "type": "dataframe",
              "variable_name": "df1",
              "summary": "{\n  \"name\": \"df1\",\n  \"rows\": 5543,\n  \"fields\": [\n    {\n      \"column\": \"VendorNumber\",\n      \"properties\": {\n        \"dtype\": \"number\",\n        \"std\": 34582,\n        \"min\": 2,\n        \"max\": 201359,\n        \"num_unique_values\": 126,\n        \"samples\": [\n          8920,\n          2555,\n          60\n        ],\n        \"semantic_type\": \"\",\n        \"description\": \"\"\n      }\n    },\n    {\n      \"column\": \"VendorName\",\n      \"properties\": {\n        \"dtype\": \"category\",\n        \"num_unique_values\": 129,\n        \"samples\": [\n          \"POVERTY LANE ORCHARDS      \",\n          \"MAJESTIC FINE WINES        \",\n          \"DISARONNO INTERNATIONAL LLC\"\n        ],\n        \"semantic_type\": \"\",\n        \"description\": \"\"\n      }\n    },\n    {\n      \"column\": \"InvoiceDate\",\n      \"properties\": {\n        \"dtype\": \"date\",\n        \"min\": \"2016-01-04 00:00:00\",\n        \"max\": \"2017-01-10 00:00:00\",\n        \"num_unique_values\": 373,\n        \"samples\": [\n          \"2016-11-26 00:00:00\",\n          \"2016-02-07 00:00:00\",\n          \"2016-01-18 00:00:00\"\n        ],\n        \"semantic_type\": \"\",\n        \"description\": \"\"\n      }\n    },\n    {\n      \"column\": \"PODate\",\n      \"properties\": {\n        \"dtype\": \"date\",\n        \"min\": \"2015-12-20 00:00:00\",\n        \"max\": \"2016-12-23 00:00:00\",\n        \"num_unique_values\": 319,\n        \"samples\": [\n          \"2016-03-17 00:00:00\",\n          \"2016-08-30 00:00:00\",\n          \"2016-01-19 00:00:00\"\n        ],\n        \"semantic_type\": \"\",\n        \"description\": \"\"\n      }\n    },\n    {\n      \"column\": \"PayDate\",\n      \"properties\": {\n        \"dtype\": \"date\",\n        \"min\": \"2016-02-04 00:00:00\",\n        \"max\": \"2017-02-19 00:00:00\",\n        \"num_unique_values\": 382,\n        \"samples\": [\n          \"2016-11-13 00:00:00\",\n          \"2016-10-08 00:00:00\",\n          \"2016-09-07 00:00:00\"\n        ],\n        \"semantic_type\": \"\",\n        \"description\": \"\"\n      }\n    }\n  ]\n}"
            }
          },
          "metadata": {},
          "execution_count": 10
        }
      ]
    },
    {
      "cell_type": "markdown",
      "source": [
        "#5th Question\n",
        "#Lead Time Analysis\n",
        "#Optimize supply chain efficiency by assessing material procurement timelines.\n",
        "#Reduce waiting periods for production inputs."
      ],
      "metadata": {
        "id": "R6bBPEpnhA9g"
      }
    },
    {
      "cell_type": "markdown",
      "source": [
        "#Lead time analysis of top 5 Vendor"
      ],
      "metadata": {
        "id": "E2UC7LoZhNT8"
      }
    },
    {
      "cell_type": "code",
      "source": [
        "import pandas as pd\n",
        "import matplotlib.pyplot as plt\n",
        "\n",
        "df=df1\n",
        "\n",
        "# Step 2: Convert dates to datetime\n",
        "df['PODate'] = pd.to_datetime(df['PODate'], errors='coerce')\n",
        "df['PayDate'] = pd.to_datetime(df['PayDate'], errors='coerce')\n",
        "\n",
        "# Step 3: Drop rows with missing or invalid dates\n",
        "df = df.dropna(subset=['PODate', 'PayDate'])\n",
        "\n",
        "# Step 4: Calculate lead time in days\n",
        "df['LeadTime_Days'] = (df['PayDate'] - df['PODate']).dt.days\n",
        "\n",
        "# Step 5: Group by VendorName and calculate average lead time\n",
        "avg_lead = df.groupby('VendorName')['LeadTime_Days'].mean()\n",
        "\n",
        "# Step 6: Get top 5 vendors with highest average lead time\n",
        "top5_vendors = avg_lead.sort_values(ascending=False).head(5)\n",
        "\n",
        "# Step 7: Plot\n",
        "plt.figure(figsize=(10, 6))\n",
        "top5_vendors.plot(kind='barh', color='orange', edgecolor='black')\n",
        "plt.xlabel('Average Lead Time (Days)')\n",
        "plt.title('Top 5 Vendors by Average Lead Time')\n",
        "plt.gca().invert_yaxis()\n",
        "plt.grid(axis='x', linestyle='--', alpha=0.6)\n",
        "plt.tight_layout()\n",
        "plt.show()\n"
      ],
      "metadata": {
        "colab": {
          "base_uri": "https://localhost:8080/",
          "height": 607
        },
        "id": "OGfSp2FJfvKv",
        "outputId": "3c5281d8-6833-45d4-fb38-8bb691dc10e4"
      },
      "execution_count": 11,
      "outputs": [
        {
          "output_type": "display_data",
          "data": {
            "text/plain": [
              "<Figure size 1000x600 with 1 Axes>"
            ],
            "image/png": "[encoded data removed]"
          },
          "metadata": {}
        }
      ]
    },
    {
      "cell_type": "markdown",
      "source": [
        "#Additional insite"
      ],
      "metadata": {
        "id": "q--1y1rDid0j"
      }
    },
    {
      "cell_type": "markdown",
      "source": [
        "#top 5 late payment vendors"
      ],
      "metadata": {
        "id": "nRDy7ODVig0H"
      }
    },
    {
      "cell_type": "code",
      "source": [
        "\n",
        "df['InvoiceDate'] = pd.to_datetime(df['InvoiceDate'])\n",
        "df['PayDate'] = pd.to_datetime(df['PayDate'])\n",
        "\n",
        "# Step 1: Calculate Processing Time (in days)\n",
        "df['Processing Time'] = (df['PayDate'] - df['InvoiceDate']).dt.days\n",
        "\n",
        "# Step 2: Filter for late payments (> 30 days)\n",
        "late_df = df[df['Processing Time'] > 30]\n",
        "\n",
        "# Step 3: Count top 5 late payment vendors\n",
        "top_late_vendors = late_df['VendorName'].value_counts().head(5)\n",
        "\n",
        "# Step 4: Plot\n",
        "plt.figure(figsize=(10, 6))\n",
        "top_late_vendors.plot(kind='bar', color='salmon')\n",
        "plt.title('Top 5 Late Payment Vendors (>30 days)')\n",
        "plt.xlabel('Vendor Name')\n",
        "plt.ylabel('Number of Late Payments')\n",
        "plt.xticks(rotation=45, ha='right')\n",
        "plt.tight_layout()\n",
        "plt.grid(True, axis='y', linestyle='--', alpha=0.7)\n",
        "plt.show()\n"
      ],
      "metadata": {
        "colab": {
          "base_uri": "https://localhost:8080/",
          "height": 607
        },
        "id": "6u35VzpOgrwO",
        "outputId": "0a7acb0f-5ce6-4d5b-c976-f8c39ba1a075"
      },
      "execution_count": 12,
      "outputs": [
        {
          "output_type": "display_data",
          "data": {
            "text/plain": [
              "<Figure size 1000x600 with 1 Axes>"
            ],
            "image/png": "[encoded data removed]"
          },
          "metadata": {}
        }
      ]
    },
    {
      "cell_type": "markdown",
      "source": [
        "#5 vendors by number of POs"
      ],
      "metadata": {
        "id": "YsyUZEO0i07C"
      }
    },
    {
      "cell_type": "code",
      "source": [
        "\n",
        "\n",
        "#Count how many times each Vendor appears (i.e., number of POs)\n",
        "top_vendors = df['VendorName'].value_counts().head(5)\n",
        "\n",
        "# Plot as histogram-style bar chart\n",
        "plt.figure(figsize=(10, 6))\n",
        "top_vendors.plot(kind='bar', color='skyblue', edgecolor='black')\n",
        "\n",
        "plt.title('Top 5 Vendors by Number of Purchase Orders')\n",
        "plt.xlabel('Vendor Name')\n",
        "plt.ylabel('Number of POs')\n",
        "plt.xticks(rotation=45, ha='right')\n",
        "plt.tight_layout()\n",
        "plt.grid(axis='y', linestyle='--', alpha=0.7)\n",
        "plt.show()\n"
      ],
      "metadata": {
        "colab": {
          "base_uri": "https://localhost:8080/",
          "height": 607
        },
        "id": "Od7ZfILZinuN",
        "outputId": "266ce632-4673-4d75-e61d-7e5535b59456"
      },
      "execution_count": 14,
      "outputs": [
        {
          "output_type": "display_data",
          "data": {
            "text/plain": [
              "<Figure size 1000x600 with 1 Axes>"
            ],
            "image/png": "[encoded data removed]"
          },
          "metadata": {}
        }
      ]
    },
    {
      "cell_type": "markdown",
      "source": [
        "#Using BegInvFinal Data set"
      ],
      "metadata": {
        "id": "yo92BBhtkRiG"
      }
    },
    {
      "cell_type": "markdown",
      "source": [
        "#3rd Question"
      ],
      "metadata": {
        "id": "qpTRCMz0kagh"
      }
    },
    {
      "cell_type": "markdown",
      "source": [
        "#Economic Order Quantity (EOQ) Analysis\n",
        "#Calculate optimal order quantity to minimize ordering & carrying costs.\n",
        "#Implement just-in-time inventory practices where feasible."
      ],
      "metadata": {
        "id": "clPp8zw9kdPK"
      }
    },
    {
      "cell_type": "code",
      "source": [
        "df2=pd.read_csv('/content/BegInvFINAL12312016.csv')"
      ],
      "metadata": {
        "id": "7ylHoTlfkjzu"
      },
      "execution_count": 16,
      "outputs": []
    },
    {
      "cell_type": "code",
      "source": [
        "df2=df2.drop(['Store', 'City', 'Brand', 'Size', 'startDate'],axis=True)"
      ],
      "metadata": {
        "id": "rajd2IbvlRc8"
      },
      "execution_count": 20,
      "outputs": []
    },
    {
      "cell_type": "code",
      "source": [
        "df2.info()"
      ],
      "metadata": {
        "colab": {
          "base_uri": "https://localhost:8080/"
        },
        "id": "mPldeTKgmhP8",
        "outputId": "e237c8cf-d0ee-4cfa-93c1-c394f79c9ac6"
      },
      "execution_count": 21,
      "outputs": [
        {
          "output_type": "stream",
          "name": "stdout",
          "text": [
            "<class 'pandas.core.frame.DataFrame'>\n",
            "RangeIndex: 206529 entries, 0 to 206528\n",
            "Data columns (total 4 columns):\n",
            " #   Column       Non-Null Count   Dtype  \n",
            "---  ------       --------------   -----  \n",
            " 0   InventoryId  206529 non-null  object \n",
            " 1   Description  206529 non-null  object \n",
            " 2   onHand       206529 non-null  int64  \n",
            " 3   Price        206529 non-null  float64\n",
            "dtypes: float64(1), int64(1), object(2)\n",
            "memory usage: 6.3+ MB\n"
          ]
        }
      ]
    },
    {
      "cell_type": "code",
      "source": [
        "df2.head()"
      ],
      "metadata": {
        "colab": {
          "base_uri": "https://localhost:8080/",
          "height": 206
        },
        "id": "gBXESQgXmj30",
        "outputId": "08cf0244-8a77-4d7c-89b0-0e161b0df26c"
      },
      "execution_count": 22,
      "outputs": [
        {
          "output_type": "execute_result",
          "data": {
            "text/plain": [
              "         InventoryId                  Description  onHand  Price\n",
              "0  1_HARDERSFIELD_58  Gekkeikan Black & Gold Sake       8  12.99\n",
              "1  1_HARDERSFIELD_60       Canadian Club 1858 VAP       7  10.99\n",
              "2  1_HARDERSFIELD_62     Herradura Silver Tequila       6  36.99\n",
              "3  1_HARDERSFIELD_63   Herradura Reposado Tequila       3  38.99\n",
              "4  1_HARDERSFIELD_72         No. 3 London Dry Gin       6  34.99"
            ],
            "text/html": [
              "\n",
              "  <div id=\"df-162f5019-48d0-46ab-a465-66db22d7ac36\" class=\"colab-df-container\">\n",
              "    <div>\n",
              "<style scoped>\n",
              "    .dataframe tbody tr th:only-of-type {\n",
              "        vertical-align: middle;\n",
              "    }\n",
              "\n",
              "    .dataframe tbody tr th {\n",
              "        vertical-align: top;\n",
              "    }\n",
              "\n",
              "    .dataframe thead th {\n",
              "        text-align: right;\n",
              "    }\n",
              "</style>\n",
              "<table border=\"1\" class=\"dataframe\">\n",
              "  <thead>\n",
              "    <tr style=\"text-align: right;\">\n",
              "      <th></th>\n",
              "      <th>InventoryId</th>\n",
              "      <th>Description</th>\n",
              "      <th>onHand</th>\n",
              "      <th>Price</th>\n",
              "    </tr>\n",
              "  </thead>\n",
              "  <tbody>\n",
              "    <tr>\n",
              "      <th>0</th>\n",
              "      <td>1_HARDERSFIELD_58</td>\n",
              "      <td>Gekkeikan Black &amp; Gold Sake</td>\n",
              "      <td>8</td>\n",
              "      <td>12.99</td>\n",
              "    </tr>\n",
              "    <tr>\n",
              "      <th>1</th>\n",
              "      <td>1_HARDERSFIELD_60</td>\n",
              "      <td>Canadian Club 1858 VAP</td>\n",
              "      <td>7</td>\n",
              "      <td>10.99</td>\n",
              "    </tr>\n",
              "    <tr>\n",
              "      <th>2</th>\n",
              "      <td>1_HARDERSFIELD_62</td>\n",
              "      <td>Herradura Silver Tequila</td>\n",
              "      <td>6</td>\n",
              "      <td>36.99</td>\n",
              "    </tr>\n",
              "    <tr>\n",
              "      <th>3</th>\n",
              "      <td>1_HARDERSFIELD_63</td>\n",
              "      <td>Herradura Reposado Tequila</td>\n",
              "      <td>3</td>\n",
              "      <td>38.99</td>\n",
              "    </tr>\n",
              "    <tr>\n",
              "      <th>4</th>\n",
              "      <td>1_HARDERSFIELD_72</td>\n",
              "      <td>No. 3 London Dry Gin</td>\n",
              "      <td>6</td>\n",
              "      <td>34.99</td>\n",
              "    </tr>\n",
              "  </tbody>\n",
              "</table>\n",
              "</div>\n",
              "    <div class=\"colab-df-buttons\">\n",
              "\n",
              "  <div class=\"colab-df-container\">\n",
              "    <button class=\"colab-df-convert\" onclick=\"convertToInteractive('df-162f5019-48d0-46ab-a465-66db22d7ac36')\"\n",
              "            title=\"Convert this dataframe to an interactive table.\"\n",
              "            style=\"display:none;\">\n",
              "\n",
              "  <svg xmlns=\"http://www.w3.org/2000/svg\" height=\"24px\" viewBox=\"0 -960 960 960\">\n",
              "    <path d=\"M120-120v-720h720v720H120Zm60-500h600v-160H180v160Zm220 220h160v-160H400v160Zm0 220h160v-160H400v160ZM180-400h160v-160H180v160Zm440 0h160v-160H620v160ZM180-180h160v-160H180v160Zm440 0h160v-160H620v160Z\"/>\n",
              "  </svg>\n",
              "    </button>\n",
              "\n",
              "  <style>\n",
              "    .colab-df-container {\n",
              "      display:flex;\n",
              "      gap: 12px;\n",
              "    }\n",
              "\n",
              "    .colab-df-convert {\n",
              "      background-color: #E8F0FE;\n",
              "      border: none;\n",
              "      border-radius: 50%;\n",
              "      cursor: pointer;\n",
              "      display: none;\n",
              "      fill: #1967D2;\n",
              "      height: 32px;\n",
              "      padding: 0 0 0 0;\n",
              "      width: 32px;\n",
              "    }\n",
              "\n",
              "    .colab-df-convert:hover {\n",
              "      background-color: #E2EBFA;\n",
              "      box-shadow: 0px 1px 2px rgba(60, 64, 67, 0.3), 0px 1px 3px 1px rgba(60, 64, 67, 0.15);\n",
              "      fill: #174EA6;\n",
              "    }\n",
              "\n",
              "    .colab-df-buttons div {\n",
              "      margin-bottom: 4px;\n",
              "    }\n",
              "\n",
              "    [theme=dark] .colab-df-convert {\n",
              "      background-color: #3B4455;\n",
              "      fill: #D2E3FC;\n",
              "    }\n",
              "\n",
              "    [theme=dark] .colab-df-convert:hover {\n",
              "      background-color: #434B5C;\n",
              "      box-shadow: 0px 1px 3px 1px rgba(0, 0, 0, 0.15);\n",
              "      filter: drop-shadow(0px 1px 2px rgba(0, 0, 0, 0.3));\n",
              "      fill: #FFFFFF;\n",
              "    }\n",
              "  </style>\n",
              "\n",
              "    <script>\n",
              "      const buttonEl =\n",
              "        document.querySelector('#df-162f5019-48d0-46ab-a465-66db22d7ac36 button.colab-df-convert');\n",
              "      buttonEl.style.display =\n",
              "        google.colab.kernel.accessAllowed ? 'block' : 'none';\n",
              "\n",
              "      async function convertToInteractive(key) {\n",
              "        const element = document.querySelector('#df-162f5019-48d0-46ab-a465-66db22d7ac36');\n",
              "        const dataTable =\n",
              "          await google.colab.kernel.invokeFunction('convertToInteractive',\n",
              "                                                    [key], {});\n",
              "        if (!dataTable) return;\n",
              "\n",
              "        const docLinkHtml = 'Like what you see? Visit the ' +\n",
              "          '<a target=\"_blank\" href=https://colab.research.google.com/notebooks/data_table.ipynb>data table notebook</a>'\n",
              "          + ' to learn more about interactive tables.';\n",
              "        element.innerHTML = '';\n",
              "        dataTable['output_type'] = 'display_data';\n",
              "        await google.colab.output.renderOutput(dataTable, element);\n",
              "        const docLink = document.createElement('div');\n",
              "        docLink.innerHTML = docLinkHtml;\n",
              "        element.appendChild(docLink);\n",
              "      }\n",
              "    </script>\n",
              "  </div>\n",
              "\n",
              "\n",
              "    <div id=\"df-badfbce9-0a60-4c9c-99c8-eb0d2390e07c\">\n",
              "      <button class=\"colab-df-quickchart\" onclick=\"quickchart('df-badfbce9-0a60-4c9c-99c8-eb0d2390e07c')\"\n",
              "                title=\"Suggest charts\"\n",
              "                style=\"display:none;\">\n",
              "\n",
              "<svg xmlns=\"http://www.w3.org/2000/svg\" height=\"24px\"viewBox=\"0 0 24 24\"\n",
              "     width=\"24px\">\n",
              "    <g>\n",
              "        <path d=\"M19 3H5c-1.1 0-2 .9-2 2v14c0 1.1.9 2 2 2h14c1.1 0 2-.9 2-2V5c0-1.1-.9-2-2-2zM9 17H7v-7h2v7zm4 0h-2V7h2v10zm4 0h-2v-4h2v4z\"/>\n",
              "    </g>\n",
              "</svg>\n",
              "      </button>\n",
              "\n",
              "<style>\n",
              "  .colab-df-quickchart {\n",
              "      --bg-color: #E8F0FE;\n",
              "      --fill-color: #1967D2;\n",
              "      --hover-bg-color: #E2EBFA;\n",
              "      --hover-fill-color: #174EA6;\n",
              "      --disabled-fill-color: #AAA;\n",
              "      --disabled-bg-color: #DDD;\n",
              "  }\n",
              "\n",
              "  [theme=dark] .colab-df-quickchart {\n",
              "      --bg-color: #3B4455;\n",
              "      --fill-color: #D2E3FC;\n",
              "      --hover-bg-color: #434B5C;\n",
              "      --hover-fill-color: #FFFFFF;\n",
              "      --disabled-bg-color: #3B4455;\n",
              "      --disabled-fill-color: #666;\n",
              "  }\n",
              "\n",
              "  .colab-df-quickchart {\n",
              "    background-color: var(--bg-color);\n",
              "    border: none;\n",
              "    border-radius: 50%;\n",
              "    cursor: pointer;\n",
              "    display: none;\n",
              "    fill: var(--fill-color);\n",
              "    height: 32px;\n",
              "    padding: 0;\n",
              "    width: 32px;\n",
              "  }\n",
              "\n",
              "  .colab-df-quickchart:hover {\n",
              "    background-color: var(--hover-bg-color);\n",
              "    box-shadow: 0 1px 2px rgba(60, 64, 67, 0.3), 0 1px 3px 1px rgba(60, 64, 67, 0.15);\n",
              "    fill: var(--button-hover-fill-color);\n",
              "  }\n",
              "\n",
              "  .colab-df-quickchart-complete:disabled,\n",
              "  .colab-df-quickchart-complete:disabled:hover {\n",
              "    background-color: var(--disabled-bg-color);\n",
              "    fill: var(--disabled-fill-color);\n",
              "    box-shadow: none;\n",
              "  }\n",
              "\n",
              "  .colab-df-spinner {\n",
              "    border: 2px solid var(--fill-color);\n",
              "    border-color: transparent;\n",
              "    border-bottom-color: var(--fill-color);\n",
              "    animation:\n",
              "      spin 1s steps(1) infinite;\n",
              "  }\n",
              "\n",
              "  @keyframes spin {\n",
              "    0% {\n",
              "      border-color: transparent;\n",
              "      border-bottom-color: var(--fill-color);\n",
              "      border-left-color: var(--fill-color);\n",
              "    }\n",
              "    20% {\n",
              "      border-color: transparent;\n",
              "      border-left-color: var(--fill-color);\n",
              "      border-top-color: var(--fill-color);\n",
              "    }\n",
              "    30% {\n",
              "      border-color: transparent;\n",
              "      border-left-color: var(--fill-color);\n",
              "      border-top-color: var(--fill-color);\n",
              "      border-right-color: var(--fill-color);\n",
              "    }\n",
              "    40% {\n",
              "      border-color: transparent;\n",
              "      border-right-color: var(--fill-color);\n",
              "      border-top-color: var(--fill-color);\n",
              "    }\n",
              "    60% {\n",
              "      border-color: transparent;\n",
              "      border-right-color: var(--fill-color);\n",
              "    }\n",
              "    80% {\n",
              "      border-color: transparent;\n",
              "      border-right-color: var(--fill-color);\n",
              "      border-bottom-color: var(--fill-color);\n",
              "    }\n",
              "    90% {\n",
              "      border-color: transparent;\n",
              "      border-bottom-color: var(--fill-color);\n",
              "    }\n",
              "  }\n",
              "</style>\n",
              "\n",
              "      <script>\n",
              "        async function quickchart(key) {\n",
              "          const quickchartButtonEl =\n",
              "            document.querySelector('#' + key + ' button');\n",
              "          quickchartButtonEl.disabled = true;  // To prevent multiple clicks.\n",
              "          quickchartButtonEl.classList.add('colab-df-spinner');\n",
              "          try {\n",
              "            const charts = await google.colab.kernel.invokeFunction(\n",
              "                'suggestCharts', [key], {});\n",
              "          } catch (error) {\n",
              "            console.error('Error during call to suggestCharts:', error);\n",
              "          }\n",
              "          quickchartButtonEl.classList.remove('colab-df-spinner');\n",
              "          quickchartButtonEl.classList.add('colab-df-quickchart-complete');\n",
              "        }\n",
              "        (() => {\n",
              "          let quickchartButtonEl =\n",
              "            document.querySelector('#df-badfbce9-0a60-4c9c-99c8-eb0d2390e07c button');\n",
              "          quickchartButtonEl.style.display =\n",
              "            google.colab.kernel.accessAllowed ? 'block' : 'none';\n",
              "        })();\n",
              "      </script>\n",
              "    </div>\n",
              "\n",
              "    </div>\n",
              "  </div>\n"
            ],
            "application/vnd.google.colaboratory.intrinsic+json": {
              "type": "dataframe",
              "variable_name": "df2"
            }
          },
          "metadata": {},
          "execution_count": 22
        }
      ]
    },
    {
      "cell_type": "code",
      "source": [
        "df2.isnull().sum()"
      ],
      "metadata": {
        "colab": {
          "base_uri": "https://localhost:8080/",
          "height": 209
        },
        "id": "NyBCQMfxmuuF",
        "outputId": "143bc425-2a81-464d-e9ba-d47e358588a2"
      },
      "execution_count": 23,
      "outputs": [
        {
          "output_type": "execute_result",
          "data": {
            "text/plain": [
              "InventoryId    0\n",
              "Description    0\n",
              "onHand         0\n",
              "Price          0\n",
              "dtype: int64"
            ],
            "text/html": [
              "<div>\n",
              "<style scoped>\n",
              "    .dataframe tbody tr th:only-of-type {\n",
              "        vertical-align: middle;\n",
              "    }\n",
              "\n",
              "    .dataframe tbody tr th {\n",
              "        vertical-align: top;\n",
              "    }\n",
              "\n",
              "    .dataframe thead th {\n",
              "        text-align: right;\n",
              "    }\n",
              "</style>\n",
              "<table border=\"1\" class=\"dataframe\">\n",
              "  <thead>\n",
              "    <tr style=\"text-align: right;\">\n",
              "      <th></th>\n",
              "      <th>0</th>\n",
              "    </tr>\n",
              "  </thead>\n",
              "  <tbody>\n",
              "    <tr>\n",
              "      <th>InventoryId</th>\n",
              "      <td>0</td>\n",
              "    </tr>\n",
              "    <tr>\n",
              "      <th>Description</th>\n",
              "      <td>0</td>\n",
              "    </tr>\n",
              "    <tr>\n",
              "      <th>onHand</th>\n",
              "      <td>0</td>\n",
              "    </tr>\n",
              "    <tr>\n",
              "      <th>Price</th>\n",
              "      <td>0</td>\n",
              "    </tr>\n",
              "  </tbody>\n",
              "</table>\n",
              "</div><br><label><b>dtype:</b> int64</label>"
            ]
          },
          "metadata": {},
          "execution_count": 23
        }
      ]
    },
    {
      "cell_type": "code",
      "source": [
        "import numpy as np\n",
        "\n",
        "df = df2\n",
        "\n",
        "df['AnnualDemand'] = 1000\n",
        "\n",
        "# Constants\n",
        "ordering_cost = 50  # Fixed cost per order (update with real cost)\n",
        "holding_cost_rate = 0.20  # 20% of price as holding cost\n",
        "\n",
        "# Calculate Holding cost\n",
        "df['HoldingCost'] = df['Price'] * holding_cost_rate\n",
        "\n",
        "# Calculate EOQ\n",
        "df['EOQ'] = np.sqrt((2 * df['AnnualDemand'] * ordering_cost) / df['HoldingCost'])\n",
        "\n",
        "# Optional: Save result to a new CSV\n",
        "df.to_csv('inventory_with_eoq.csv', index=False)\n",
        "\n",
        "print(df[['InventoryId', 'Description', 'AnnualDemand', 'Price', 'HoldingCost', 'EOQ']].head())\n"
      ],
      "metadata": {
        "colab": {
          "base_uri": "https://localhost:8080/"
        },
        "id": "fLqOy6O8my5I",
        "outputId": "36ed67a4-6000-40fb-95dc-19dce1bfc1f8"
      },
      "execution_count": 25,
      "outputs": [
        {
          "output_type": "stream",
          "name": "stdout",
          "text": [
            "         InventoryId                  Description  AnnualDemand  Price  \\\n",
            "0  1_HARDERSFIELD_58  Gekkeikan Black & Gold Sake          1000  12.99   \n",
            "1  1_HARDERSFIELD_60       Canadian Club 1858 VAP          1000  10.99   \n",
            "2  1_HARDERSFIELD_62     Herradura Silver Tequila          1000  36.99   \n",
            "3  1_HARDERSFIELD_63   Herradura Reposado Tequila          1000  38.99   \n",
            "4  1_HARDERSFIELD_72         No. 3 London Dry Gin          1000  34.99   \n",
            "\n",
            "   HoldingCost         EOQ  \n",
            "0        2.598  196.191608  \n",
            "1        2.198  213.297692  \n",
            "2        7.398  116.263351  \n",
            "3        7.798  113.242223  \n",
            "4        6.998  119.539939  \n"
          ]
        }
      ]
    },
    {
      "cell_type": "code",
      "source": [
        "import matplotlib.pyplot as plt\n",
        "\n",
        "# Filter out infinite and NaN values first\n",
        "df_filtered = df[np.isfinite(df['EOQ'])]\n",
        "\n",
        "# Get top 5 EOQ values\n",
        "top5_eoq = df_filtered.sort_values(by='EOQ', ascending=False).head(5)\n",
        "\n",
        "# Plot line graph\n",
        "plt.figure(figsize=(8,5))\n",
        "plt.plot(top5_eoq['Description'], top5_eoq['EOQ'], marker='o', linestyle='-', color='blue')\n",
        "plt.xticks(rotation=45, ha='right')\n",
        "plt.xlabel('Product Description')\n",
        "plt.ylabel('EOQ')\n",
        "plt.title('Top 5 EOQ Values Line Graph')\n",
        "plt.grid(True)\n",
        "plt.tight_layout()\n",
        "plt.show()\n"
      ],
      "metadata": {
        "colab": {
          "base_uri": "https://localhost:8080/",
          "height": 507
        },
        "id": "mN8tSVmGnYBG",
        "outputId": "e33968b1-d82e-460c-9481-79c385f565ce"
      },
      "execution_count": 29,
      "outputs": [
        {
          "output_type": "display_data",
          "data": {
            "text/plain": [
              "<Figure size 800x500 with 1 Axes>"
            ],
            "image/png": "[encoded data removed]"
          },
          "metadata": {}
        }
      ]
    },
    {
      "cell_type": "code",
      "source": [],
      "metadata": {
        "id": "2c-f-mB3n1lj"
      },
      "execution_count": null,
      "outputs": []
    }
  ]
}